{
  "nbformat": 4,
  "nbformat_minor": 0,
  "metadata": {
    "colab": {
      "provenance": [],
      "authorship_tag": "ABX9TyM64BwKgUON5LXdvhE7dall",
      "include_colab_link": true
    },
    "kernelspec": {
      "name": "python3",
      "display_name": "Python 3"
    },
    "language_info": {
      "name": "python"
    }
  },
  "cells": [
    {
      "cell_type": "markdown",
      "metadata": {
        "id": "view-in-github",
        "colab_type": "text"
      },
      "source": [
        "<a href=\"https://colab.research.google.com/github/simranbains9810/mark_carney_speech_analysis/blob/main/speech_analysis.ipynb\" target=\"_parent\"><img src=\"https://colab.research.google.com/assets/colab-badge.svg\" alt=\"Open In Colab\"/></a>"
      ]
    },
    {
      "cell_type": "markdown",
      "source": [
        "# **Key risk identification from Mark Carney speeches**"
      ],
      "metadata": {
        "id": "eT-aurtorkh2"
      }
    },
    {
      "cell_type": "markdown",
      "source": [
        "Installing and updating the text mining library pdfplumber into the local Colab environment"
      ],
      "metadata": {
        "id": "5wcrcwosfUQI"
      }
    },
    {
      "cell_type": "code",
      "source": [
        "!pip install --upgrade pdfplumber"
      ],
      "metadata": {
        "colab": {
          "base_uri": "https://localhost:8080/"
        },
        "id": "tCg0tcTzre09",
        "outputId": "58021c5b-ca3b-4abb-eeb5-46825a742e34"
      },
      "execution_count": 2,
      "outputs": [
        {
          "output_type": "stream",
          "name": "stdout",
          "text": [
            "Collecting pdfplumber\n",
            "  Downloading pdfplumber-0.11.4-py3-none-any.whl.metadata (41 kB)\n",
            "\u001b[?25l     \u001b[90m━━━━━━━━━━━━━━━━━━━━━━━━━━━━━━━━━━━━━━━━\u001b[0m \u001b[32m0.0/42.0 kB\u001b[0m \u001b[31m?\u001b[0m eta \u001b[36m-:--:--\u001b[0m\r\u001b[2K     \u001b[90m━━━━━━━━━━━━━━━━━━━━━━━━━━━━━━━━━━━━━━━━\u001b[0m \u001b[32m42.0/42.0 kB\u001b[0m \u001b[31m1.7 MB/s\u001b[0m eta \u001b[36m0:00:00\u001b[0m\n",
            "\u001b[?25hCollecting pdfminer.six==20231228 (from pdfplumber)\n",
            "  Downloading pdfminer.six-20231228-py3-none-any.whl.metadata (4.2 kB)\n",
            "Requirement already satisfied: Pillow>=9.1 in /usr/local/lib/python3.10/dist-packages (from pdfplumber) (11.0.0)\n",
            "Collecting pypdfium2>=4.18.0 (from pdfplumber)\n",
            "  Downloading pypdfium2-4.30.0-py3-none-manylinux_2_17_x86_64.manylinux2014_x86_64.whl.metadata (48 kB)\n",
            "\u001b[2K     \u001b[90m━━━━━━━━━━━━━━━━━━━━━━━━━━━━━━━━━━━━━━━━\u001b[0m \u001b[32m48.5/48.5 kB\u001b[0m \u001b[31m1.2 MB/s\u001b[0m eta \u001b[36m0:00:00\u001b[0m\n",
            "\u001b[?25hRequirement already satisfied: charset-normalizer>=2.0.0 in /usr/local/lib/python3.10/dist-packages (from pdfminer.six==20231228->pdfplumber) (3.4.0)\n",
            "Requirement already satisfied: cryptography>=36.0.0 in /usr/local/lib/python3.10/dist-packages (from pdfminer.six==20231228->pdfplumber) (43.0.3)\n",
            "Requirement already satisfied: cffi>=1.12 in /usr/local/lib/python3.10/dist-packages (from cryptography>=36.0.0->pdfminer.six==20231228->pdfplumber) (1.17.1)\n",
            "Requirement already satisfied: pycparser in /usr/local/lib/python3.10/dist-packages (from cffi>=1.12->cryptography>=36.0.0->pdfminer.six==20231228->pdfplumber) (2.22)\n",
            "Downloading pdfplumber-0.11.4-py3-none-any.whl (59 kB)\n",
            "\u001b[2K   \u001b[90m━━━━━━━━━━━━━━━━━━━━━━━━━━━━━━━━━━━━━━━━\u001b[0m \u001b[32m59.2/59.2 kB\u001b[0m \u001b[31m2.3 MB/s\u001b[0m eta \u001b[36m0:00:00\u001b[0m\n",
            "\u001b[?25hDownloading pdfminer.six-20231228-py3-none-any.whl (5.6 MB)\n",
            "\u001b[2K   \u001b[90m━━━━━━━━━━━━━━━━━━━━━━━━━━━━━━━━━━━━━━━━\u001b[0m \u001b[32m5.6/5.6 MB\u001b[0m \u001b[31m27.7 MB/s\u001b[0m eta \u001b[36m0:00:00\u001b[0m\n",
            "\u001b[?25hDownloading pypdfium2-4.30.0-py3-none-manylinux_2_17_x86_64.manylinux2014_x86_64.whl (2.8 MB)\n",
            "\u001b[2K   \u001b[90m━━━━━━━━━━━━━━━━━━━━━━━━━━━━━━━━━━━━━━━━\u001b[0m \u001b[32m2.8/2.8 MB\u001b[0m \u001b[31m15.2 MB/s\u001b[0m eta \u001b[36m0:00:00\u001b[0m\n",
            "\u001b[?25hInstalling collected packages: pypdfium2, pdfminer.six, pdfplumber\n",
            "Successfully installed pdfminer.six-20231228 pdfplumber-0.11.4 pypdfium2-4.30.0\n"
          ]
        }
      ]
    },
    {
      "cell_type": "markdown",
      "source": [
        "# **Web scraping, text extraction and text pre-processing Mark Carney speeches**"
      ],
      "metadata": {
        "id": "HysLV0ICf1I5"
      }
    },
    {
      "cell_type": "markdown",
      "source": [
        "This section outlies the comprehensive text mining operations executed to analyse Mark Carney's speeches. These operations encompass several stages, including scripts for web scraping to gather speeches from the Bank of England's website, text extraction, and conversion to plain text format. Further preprocessing steps involve word tokenization and the removal of stop words to prepare the data for analysis. The speeches were specifically sourced from the Bank of England's website by applying filters to isolate those given by Mark Carney."
      ],
      "metadata": {
        "id": "pbsQ_QvXhRQC"
      }
    },
    {
      "cell_type": "code",
      "source": [
        "import os\n",
        "import requests\n",
        "import pdfplumber\n",
        "import pandas as pd\n",
        "import re\n",
        "import string\n",
        "import unicodedata\n",
        "import nltk\n",
        "from nltk.tokenize import word_tokenize\n",
        "from urllib.request import urlopen\n",
        "from bs4 import BeautifulSoup\n",
        "\n",
        "from urllib.request import Request, urlopen"
      ],
      "metadata": {
        "id": "xxfrKtjAYp-U"
      },
      "execution_count": 3,
      "outputs": []
    },
    {
      "cell_type": "code",
      "source": [
        "# Define the directory path\n",
        "directory_path = \"/content/speeches\"\n",
        "os.mkdir(directory_path)"
      ],
      "metadata": {
        "id": "aP5NwZWKil78"
      },
      "execution_count": 4,
      "outputs": []
    },
    {
      "cell_type": "code",
      "source": [
        "%cd speeches"
      ],
      "metadata": {
        "colab": {
          "base_uri": "https://localhost:8080/"
        },
        "id": "xYs5RfY5FTyo",
        "outputId": "94016823-3501-4223-d662-5a368637cdba"
      },
      "execution_count": 5,
      "outputs": [
        {
          "output_type": "stream",
          "name": "stdout",
          "text": [
            "/content/speeches\n"
          ]
        }
      ]
    },
    {
      "cell_type": "code",
      "source": [
        "urls = [\"https://www.bankofengland.co.uk/-/media/boe/files/speech/2020/the-grand-unifying-theory-and-practice-of-macroprudential-policy-speech-by-mark-carney.pdf\",\n",
        "        \"https://www.bankofengland.co.uk/-/media/boe/files/speech/2020/the-road-to-glasgow-speech-by-mark-carney.pdf\",\n",
        "        \"https://www.bankofengland.co.uk/speech/2020/mark-carney-opening-remarks-at-the-future-of-inflation-targeting-conference\",\n",
        "        \"https://www.bankofengland.co.uk/-/media/boe/files/speech/2019/remarks-by-mark-carney-at-the-ecb-farewell-board-dinner-for-benoit-coeure.pdf\",\n",
        "        \"https://www.bankofengland.co.uk/-/media/boe/files/speech/2019/remarks-by-mark-carney-at-the-us-climate-action-centre-madrid.pdf\",\n",
        "        \"https://www.bankofengland.co.uk/-/media/boe/files/speech/2019/addressing-the-growing-challenges-in-the-international-monetary-and-financial-system-slides.pdf\",\n",
        "        \"https://www.bankofengland.co.uk/-/media/boe/files/speech/2019/light-is-therefore-colour-governor-remarks-at-the-new-20-launch.pdf\",\n",
        "        \"https://www.bankofengland.co.uk/-/media/boe/files/speech/2019/tcfd-strengthening-the-foundations-of-sustainable-finance-speech-by-mark-carney.pdf\",\n",
        "        \"https://www.bankofengland.co.uk/-/media/boe/files/speech/2019/remarks-given-during-the-un-secretary-generals-climate-actions-summit-2019-mark-carney.pdf\",\n",
        "        \"https://www.bankofengland.co.uk/-/media/boe/files/speech/2019/the-growing-challenges-for-monetary-policy-speech-by-mark-carney.pdf\",\n",
        "        \"https://www.bankofengland.co.uk/speech/2019/50-note-character-selection-announcement\",\n",
        "        \"https://www.bankofengland.co.uk/-/media/boe/files/speech/2019/sea-change-speech-by-mark-carney.pdf\",\n",
        "        \"https://www.bankofengland.co.uk/-/media/boe/files/speech/2019/enable-empower-ensure-a-new-finance-for-the-new-economy-speech-by-mark-carney.pdf\",\n",
        "        \"https://www.bankofengland.co.uk/-/media/boe/files/speech/2019/remarks-to-open-policy-panel-by-mark-carney.pdf\",\n",
        "        \"https://www.bankofengland.co.uk/-/media/boe/files/speech/2019/finance-by-all-for-all-speech-by-mark-carney.pdf\",\n",
        "        \"https://www.bankofengland.co.uk/-/media/boe/files/speech/2019/pull-push-pipes-sustainable-capital-flows-for-a-new-world-order-speech-by-mark-carney.pdf\",\n",
        "        \"https://www.bankofengland.co.uk/-/media/boe/files/speech/2019/a-platform-for-innovation-remarks-by-mark-carney.pdf\",\n",
        "        \"https://www.bankofengland.co.uk/-/media/boe/files/speech/2019/investing-in-ethnicity-and-race-speech-by-mark-carney.pdf\",\n",
        "        \"https://www.bankofengland.co.uk/speech/2019/mark-carney-speech-at-european-commission-high-level-conference-brussels\",\n",
        "        \"https://www.bankofengland.co.uk/-/media/boe/files/speech/2019/the-global-outlook-speech-by-mark-carney.pdf\",\n",
        "        \"https://www.bankofengland.co.uk/-/media/boe/files/speech/2018/remarks-at-the-accounting-for-sustainability-summit-2018.pdf\",\n",
        "        \"https://www.bankofengland.co.uk/-/media/boe/files/speech/2018/50-character-selection-and-future-forum-launch.pdf\",\n",
        "        \"https://www.bankofengland.co.uk/-/media/boe/files/speech/2018/ai-and-the-global-economy-mark-carney-slides.pdf\",\n",
        "        \"https://www.bankofengland.co.uk/-/media/boe/files/speech/2018/true-finance-ten-years-after-the-financial-crisis-speech-by-mark-carney.pdf\",\n",
        "        \"https://www.bankofengland.co.uk/-/media/boe/files/speech/2018/the-future-of-work-speech-by-mark-carney.pdf\",\n",
        "        \"https://www.bankofengland.co.uk/-/media/boe/files/speech/2018/from-protectionism-to-prosperity-speech-by-mark-carney.pdf\",\n",
        "        \"https://www.bankofengland.co.uk/-/media/boe/files/speech/2018/new-economy-new-finance-new-bank-speech-by-mark-carney.pdf\",\n",
        "        \"https://www.bankofengland.co.uk/-/media/boe/files/speech/2018/guidance-contingencies-and-brexit-speech-by-mark-carney.pdf\",\n",
        "        \"https://www.bankofengland.co.uk/-/media/boe/files/speech/2018/staying-connected-speech-by-mark-carney.pdf\",\n",
        "        \"https://www.bankofengland.co.uk/-/media/boe/files/speech/2018/opening-remarks-by-mark-carney-at-the-econome-launch-event.pdf\",\n",
        "        \"https://www.bankofengland.co.uk/speech/2018/mark-carney-speech-at-the-public-policy-forum-toronto\",\n",
        "        \"https://www.bankofengland.co.uk/-/media/boe/files/speech/2018/a-transition-in-thinking-and-action-speech-by-mark-carney.pdf\",\n",
        "        \"https://www.bankofengland.co.uk/-/media/boe/files/speech/2018/the-future-of-money-speech-by-mark-carney.pdf\",\n",
        "        \"https://www.bankofengland.co.uk/-/media/boe/files/speech/2018/reflections-on-leadership-in-a-disruptive-age-speech-by-mark-carney.pdf\",\n",
        "        \"https://www.bankofengland.co.uk/-/media/boe/files/speech/2017/turning-back-the-tide-speech-by-mark-carney.pdf\",\n",
        "        \"https://www.bankofengland.co.uk/-/media/boe/files/speech/2017/opening-remarks-at-future-forum-2017.pdf\",\n",
        "        \"https://www.bankofengland.co.uk/-/media/boe/files/speech/2017/opening-remarks-at-the-boe-independence-20-years-on-conference.pdf\",\n",
        "        \"https://www.bankofengland.co.uk/-/media/boe/files/speech/2017/de-globalisation-and-inflation.pdf\",\n",
        "        \"https://www.bankofengland.co.uk/-/media/boe/files/speech/2017/policy-panel-investment-and-growth-in-advanced-economies.pdf\",\n",
        "        \"https://www.bankofengland.co.uk/-/media/boe/files/speech/2017/a-fine-balance.pdf\",\n",
        "        \"https://www.bankofengland.co.uk/-/media/boe/files/speech/2017/what-a-difference-a-decade-makes.pdf\",\n",
        "        \"https://www.bankofengland.co.uk/-/media/boe/files/speech/2017/building-the-infrastructure-to-realise-fintechs-promise.pdf\",\n",
        "        \"https://www.bankofengland.co.uk/-/media/boe/files/speech/2017/the-high-road-to-a-responsible-open-financial-system.pdf\",\n",
        "        \"https://www.bankofengland.co.uk/-/media/boe/files/speech/2017/banking-standards-board-worthy-of-trust-law-ethics-and-culture-in-banking.pdf\",\n",
        "        \"https://www.bankofengland.co.uk/-/media/boe/files/speech/2017/reflecting-diversity-choosing-the-inclusion.pdf\",\n",
        "        \"https://www.bankofengland.co.uk/-/media/boe/files/speech/2017/the-promise-of-fintech-something-new-under-the-sun.pdf\",\n",
        "        \"https://www.bankofengland.co.uk/-/media/boe/files/speech/2017/lambda.pdf\",\n",
        "        \"https://www.bankofengland.co.uk/-/media/boe/files/speech/2016/remarks-on-the-launch-of-the-recommendations-of-the-task-force-on-climate-related.pdf\",\n",
        "        \"https://www.bankofengland.co.uk/-/media/boe/files/speech/2016/the-spectre-of-monetarism.pdf\",\n",
        "        \"https://www.bankofengland.co.uk/-/media/boe/files/speech/2016/resolving-the-climate-paradox.pdf\",\n",
        "        \"https://www.bankofengland.co.uk/-/media/boe/files/speech/2016/uncertainty-the-economy-and-policy.pdf\",\n",
        "        \"https://www.bankofengland.co.uk/-/media/boe/files/speech/2016/enabling-the-fintech-transformation-revolution-restoration-or-reformation.pdf\",\n",
        "        \"https://www.bankofengland.co.uk/-/media/boe/files/speech/2016/the-sustainable-development-goal-imperative.pdf\",\n",
        "        \"https://www.bankofengland.co.uk/-/media/boe/files/speech/2016/opening-remarks-by-mark-carney-to-the-empowering-productivity-harnessing-the-talents.pdf\",\n",
        "        \"https://www.bankofengland.co.uk/-/media/boe/files/speech/2016/redeeming-an-unforgiving-world.pdf\",\n",
        "        \"https://www.bankofengland.co.uk/-/media/boe/files/speech/2016/the-turn-of-the-year.pdf\",\n",
        "        \"https://www.bankofengland.co.uk/-/media/boe/files/speech/2015/opening-statement-at-the-european-parliaments-econ-committee.pdf\",\n",
        "        \"https://www.bankofengland.co.uk/-/media/boe/files/speech/2015/closing-remarks-to-the-boe-open-forum.pdf\",\n",
        "        \"https://www.bankofengland.co.uk/-/media/boe/files/speech/2015/introduction-to-the-open-forum.pdf\",\n",
        "        \"https://www.bankofengland.co.uk/-/media/boe/files/speech/2015/the-european-union-monetary-and-financial-stability-and-the-boe.pdf\",\n",
        "        \"https://www.bankofengland.co.uk/-/media/boe/files/speech/2015/breaking-the-tragedy-of-the-horizon-climate-change-and-financial-stability.pdf\",\n",
        "        \"https://www.bankofengland.co.uk/-/media/boe/files/speech/2015/three-truths-for-finance.pdf\",\n",
        "        \"https://www.bankofengland.co.uk/-/media/boe/files/speech/2015/inflation-in-a-globalised-world.pdf\",\n",
        "        \"https://www.bankofengland.co.uk/-/media/boe/files/speech/2015/from-lincoln-to-lothbury-magna-carta-and-the-boe.pdf\",\n",
        "        #\"https://www.bankofengland.co.uk/speech/2015/inclusive-capitalism-conference-in-conversation-with-governor-mark-carney\",\n",
        "        \"https://www.bankofengland.co.uk/-/media/boe/files/speech/2015/building-real-markets-for-the-good-of-the-people.pdf\",\n",
        "        \"https://www.bankofengland.co.uk/-/media/boe/files/speech/2015/writing-the-path-back-to-target.pdf\",\n",
        "        \"https://www.bankofengland.co.uk/-/media/boe/files/speech/2015/one-bank-research-agenda-launch-conference.pdf\",\n",
        "        \"https://www.bankofengland.co.uk/-/media/boe/files/speech/2015/fortune-favours-the-bold.pdf\",\n",
        "        \"https://www.bankofengland.co.uk/-/media/boe/files/speech/2014/the-future-of-financial-reform.pdf\",\n",
        "        \"https://www.bankofengland.co.uk/-/media/boe/files/speech/2014/regulatory-work-underway-and-lessons-learned.pdf\",\n",
        "        \"https://www.bankofengland.co.uk/-/media/boe/files/speech/2014/putting-the-right-ideas-into-practice.pdf\",\n",
        "        \"https://www.bankofengland.co.uk/-/media/boe/files/speech/2014/mark-carney-speech-at-the-trades-union-congress.pdf\",\n",
        "        \"https://www.bankofengland.co.uk/-/media/boe/files/speech/2014/winning-the-economic-marathon.pdf\",\n",
        "        \"https://www.bankofengland.co.uk/-/media/boe/files/speech/2014/mark-carney-speech-at-the-lord-mayors-banquet-for-bankers-and-merchants-of-the-city-of-london.pdf\",\n",
        "        \"https://www.bankofengland.co.uk/-/media/boe/files/speech/2014/inclusive-capitalism-creating-a-sense-of-the-systemic.pdf\",\n",
        "        \"https://www.bankofengland.co.uk/-/media/boe/files/speech/2014/one-mission-one-bank-promoting-the-good-of-the-people-of-the-uk.pdf\",\n",
        "        \"https://www.bankofengland.co.uk/-/media/boe/files/speech/2014/the-economics-of-currency-unions.pdf\",\n",
        "        \"https://www.bankofengland.co.uk/-/media/boe/files/speech/2014/remarks-given-by-mark-carney-at-davos-cbi-british-business-leaders-lunch.pdf\",\n",
        "        \"https://www.bankofengland.co.uk/-/media/boe/files/speech/2013/remarks-given-by-mark-carney-governor-regarding-polymer-notes-and-the-review-of-the-banknote-charact.pdf\",\n",
        "        \"https://www.bankofengland.co.uk/-/media/boe/files/speech/2013/the-spirit-of-the-season.pdf\",\n",
        "        \"https://www.bankofengland.co.uk/-/media/boe/files/speech/2013/the-uk-at-the-heart-of-a-renewed-globalisation.pdf\",\n",
        "        \"https://www.bankofengland.co.uk/-/media/boe/files/speech/2013/crossing-the-threshold-to-recovery.pdf\",\n",
        "        \"https://www.bankofengland.co.uk/-/media/boe/files/speech/2013/jane-austens-house-museum-remarks-by-mark-carney.pdf\"\n",
        "]"
      ],
      "metadata": {
        "id": "n237A4VVGCv0"
      },
      "execution_count": 6,
      "outputs": []
    },
    {
      "cell_type": "code",
      "source": [
        "# Scraping PDFs from URLs\n",
        "for url in urls:\n",
        "    response = requests.get(url)\n",
        "    if response.status_code == 200:\n",
        "        file_path = os.path.join(directory_path, os.path.basename(url))\n",
        "        with open(file_path, \"wb\") as f:\n",
        "            f.write(response.content)"
      ],
      "metadata": {
        "id": "LJfAi5F0YBHR"
      },
      "execution_count": 7,
      "outputs": []
    },
    {
      "cell_type": "markdown",
      "source": [
        "# **Text Extraction**"
      ],
      "metadata": {
        "id": "zHuvf5jpYWcz"
      }
    },
    {
      "cell_type": "code",
      "source": [
        "# Create a list of PDF file names and text file names\n",
        "pdf_list = os.listdir(directory_path)\n",
        "txt_list = [pdf[:-4] + \".txt\" for pdf in pdf_list]\n",
        "\n",
        "# Extracting text and saving output in dictionary\n",
        "for i in range(0, len(pdf_list)):\n",
        "    out = open(txt_list[i], \"wt\")  # open text output\n",
        "    with pdfplumber.open(os.fsdecode(pdf_list[i])) as pdf:\n",
        "        for pdf_page in pdf.pages:\n",
        "            page_text = pdf_page.extract_text()\n",
        "            out.write(page_text)\n",
        "        out.close()"
      ],
      "metadata": {
        "id": "0PJYNPzoYHfI"
      },
      "execution_count": 8,
      "outputs": []
    },
    {
      "cell_type": "code",
      "source": [
        "# Create a list of speech titles without any suffix\n",
        "speech = [pdf[:-4] for pdf in pdf_list]\n",
        "\n",
        "# Read text files as CSV files into a dictionary\n",
        "d1 = {}\n",
        "\n",
        "for i in range(0, len(speech)):\n",
        "    d1[speech[i]] = pd.read_csv(\n",
        "        txt_list[i], delimiter = \"\\n\", names = [\"text\"]\n",
        "    )\n",
        "    # concatenate all rows into one row\n",
        "    d1[speech[i]][\"text\"] = d1[speech[i]][\"text\"].str.cat(sep = \" \")\n",
        "    # dataframe now redundant, replace it with one of the rows\n",
        "    d1[speech[i]] = d1[speech[i]][\"text\"][0]\n",
        "    # convert string to lowercases\n",
        "    d1[speech[i]] = d1[speech[i]].lower()\n",
        "    # translating unicode strings into normal characters\n",
        "    d1[speech[i]] = unicodedata.normalize(\"NFKD\", d1[speech[i]])\n",
        "    # remove punctuation symbols\n",
        "    d1[speech[i]] = d1[speech[i]].translate(\n",
        "        str.maketrans(\n",
        "            \"\", \"\",string.punctuation[:12] + string.punctuation[13:]\n",
        "        )\n",
        "    )\n",
        "    # remove excess whitespaces\n",
        "    d1[speech[i]] = re.sub(\" +\", \" \", d1[speech[i]])\n",
        "\n",
        "\n",
        "# Remove repeating strings\n",
        "    del_strings = [\n",
        "        \"all speeches are available online at\",\n",
        "        \"all speeches are available online\",\n",
        "        \"all speeches available online\",\n",
        "        \"speeches are available online at\",\n",
        "        \"speeches available online at\",\n",
        "        \"speeches available online\",\n",
        "        \"wwwbankofenglandcoukpublicationspagesspeechesdefaultaspx\",\n",
        "        \"wwwbankofenglandcoukpublicationsspeeches\",\n",
        "        \"wwwbankofenglandcouknewsspeeches\",\n",
        "        \"wwwbankofenglandcoukspeeches\",\n",
        "        \"boepressoffice\",\n",
        "        \"remarks by\",\n",
        "        \"speech given by\",\n",
        "        \"mark carney\",\n",
        "        \"the views are not necessarily those of the bank of england or the monetary policy committee\",\n",
        "        \"the views are not necessarily those of the bank of england or the financial policy committee\",\n",
        "        \"the views expressed within are not necessarily those of the bank of england or the monetary policy committee\",\n",
        "        \"the views expressed within are not necessarily those of the bank of england or the financial policy committee\",\n",
        "        \"i would like to thank\",\n",
        "        \"and the staff of the bank’s archives\",\n",
        "        \"for comments and contributions\",\n",
        "        \"for their comments and contributions\",\n",
        "        \"et al\"\n",
        "    ]\n",
        "\n",
        "for i in range(0, len(speech)):\n",
        "    for j in range(0, len(del_strings)):\n",
        "        # d1[speech[i]] = d1[speech[i]].replace(del_strings[j], \"\")\n",
        "        d1[speech[i]] = re.sub(del_strings[j], \" \", d1[speech[i]])\n",
        "        # remove excess whitespaces\n",
        "        d1[speech[i]] = re.sub(\" +\", \" \", d1[speech[i]])\n",
        "\n",
        "\n",
        "# Remove refences section\n",
        "for i in range(0, len(speech)):\n",
        "    if re.search(\"references\", d1[speech[i]]):\n",
        "        # use greedy regex to remove all strings after the last \"references\"\n",
        "        d1[speech[i]] = re.findall(\".*references\", d1[speech[i]])\n",
        "        d1[speech[i]] = d1[speech[i]][0]\n",
        "    else:\n",
        "        pass\n"
      ],
      "metadata": {
        "id": "dzMcR8F9Ydcv"
      },
      "execution_count": 9,
      "outputs": []
    },
    {
      "cell_type": "code",
      "source": [
        "nltk.download(\"punkt\")\n",
        "nltk.download(\"stopwords\")\n",
        "\n",
        "# Tokenise speech words\n",
        "d2 = {}\n",
        "for i in range(0, len(speech)):\n",
        "    d2[speech[i]] = word_tokenize(d1[speech[i]])\n",
        "\n",
        "\n",
        "# Remove stop words\n",
        "stopwords = nltk.corpus.stopwords.words(\"english\")\n",
        "\n",
        "for i in range(0, len(speech)):\n",
        "    d2[speech[i]] = [word for word in d2[speech[i]] if word not in stopwords]"
      ],
      "metadata": {
        "colab": {
          "base_uri": "https://localhost:8080/"
        },
        "id": "gL48aeBzZ5_8",
        "outputId": "86549178-7c80-4484-9355-7faf64c42c71"
      },
      "execution_count": 16,
      "outputs": [
        {
          "output_type": "stream",
          "name": "stderr",
          "text": [
            "[nltk_data] Downloading package punkt to /root/nltk_data...\n",
            "[nltk_data]   Package punkt is already up-to-date!\n",
            "[nltk_data] Downloading package stopwords to /root/nltk_data...\n",
            "[nltk_data]   Package stopwords is already up-to-date!\n"
          ]
        }
      ]
    },
    {
      "cell_type": "code",
      "source": [
        "from urllib.request import urlopen, Request\n",
        "from bs4 import BeautifulSoup\n",
        "\n",
        "url_html = [\n",
        "            \"https://www.bankofengland.co.uk/speech/2015/inclusive-capitalism-conference-in-conversation-with-governor-mark-carney\"\n",
        "]\n",
        "\n",
        "speech_html = []\n",
        "for i in range(0, len(url_html)):\n",
        "    speech_html.append(url_html[i].split(\"andy-haldane-\", 1)[1])\n",
        "\n",
        "\n",
        "# Parsing HTML using BeautifulSoup\n",
        "soup = {}\n",
        "for i in range(0, len(url_html)):\n",
        "    html = urlopen(url_html[i]).read()\n",
        "    soup[i] = BeautifulSoup(html, features = \"html.parser\")\n",
        "\n",
        "\n",
        "# Extracting and cleaning text (largely a repeat of the above)\n",
        "d3 = {}\n",
        "\n",
        "for i in range(0, len(soup)):\n",
        "    d3[speech_html[i]] = soup[i].get_text()\n",
        "    # break into lines and remove leading and trailing space on each\n",
        "    lines = (line.strip() for line in d3[speech_html[i]].splitlines())\n",
        "    # break multi-headlines into a line each\n",
        "    chunks = (phrase.strip() for line in lines for phrase in line.split(\"  \"))\n",
        "    # drop blank lines\n",
        "    d3[speech_html[i]] = \" \".join(chunk for chunk in chunks if chunk)\n",
        "    # convert string to lowercases\n",
        "    d3[speech_html[i]] = d3[speech_html[i]].lower()\n",
        "    # translating unicode strings into normal characters\n",
        "    d3[speech_html[i]] = unicodedata.normalize(\"NFKD\", d3[speech_html[i]])\n",
        "    # remove punctuation symbols\n",
        "    d3[speech_html[i]] = d3[speech_html[i]].translate(\n",
        "        str.maketrans(\n",
        "            \"\", \"\",string.punctuation[:12] + string.punctuation[13:]\n",
        "        )\n",
        "    )\n",
        "    # remove excess whitespaces\n",
        "    d3[speech_html[i]] = re.sub(\" +\", \" \", d3[speech_html[i]])\n",
        "    # extract only parts after \"published on\" and before \"references\"\n",
        "    for j in range(0, len(del_strings)):\n",
        "        # d1[speech[i]] = d1[speech[i]].replace(del_strings[j], \"\")\n",
        "        d3[speech_html[i]] = re.sub(del_strings[j], \" \", d3[speech_html[i]])\n",
        "        # remove excess whitespaces\n",
        "        d3[speech_html[i]] = re.sub(\" +\", \" \", d3[speech_html[i]])\n",
        "    d3[speech_html[i]] = d3[speech_html[i]].split(\"published on\", 1)[1]\n",
        "    d3[speech_html[i]] = d3[speech_html[i]].split(\"references\", 1)[0]\n",
        "\n",
        "\n",
        "# Tokenise speech words (same as above)\n",
        "d4 = {}\n",
        "for i in range(0, len(speech_html)):\n",
        "    d3[speech_html[i]] = word_tokenize(d3[speech_html[i]])\n",
        "\n",
        "\n",
        "# Remove stop words (same as above)\n",
        "for i in range(0, len(speech_html)):\n",
        "    d3[speech_html[i]] = [word for word in d3[speech_html[i]] if word not in stopwords]\n",
        "    d3[speech_html[i]] = \" \".join(d3[speech_html[i]])\n"
      ],
      "metadata": {
        "colab": {
          "base_uri": "https://localhost:8080/",
          "height": 216
        },
        "id": "Kig6hdO-gQAn",
        "outputId": "5db1cf70-84ef-4625-9451-5be0d6416a47"
      },
      "execution_count": 20,
      "outputs": [
        {
          "output_type": "error",
          "ename": "IndexError",
          "evalue": "list index out of range",
          "traceback": [
            "\u001b[0;31m---------------------------------------------------------------------------\u001b[0m",
            "\u001b[0;31mIndexError\u001b[0m                                Traceback (most recent call last)",
            "\u001b[0;32m<ipython-input-20-ce7e5f1ddec2>\u001b[0m in \u001b[0;36m<cell line: 9>\u001b[0;34m()\u001b[0m\n\u001b[1;32m      8\u001b[0m \u001b[0mspeech_html\u001b[0m \u001b[0;34m=\u001b[0m \u001b[0;34m[\u001b[0m\u001b[0;34m]\u001b[0m\u001b[0;34m\u001b[0m\u001b[0;34m\u001b[0m\u001b[0m\n\u001b[1;32m      9\u001b[0m \u001b[0;32mfor\u001b[0m \u001b[0mi\u001b[0m \u001b[0;32min\u001b[0m \u001b[0mrange\u001b[0m\u001b[0;34m(\u001b[0m\u001b[0;36m0\u001b[0m\u001b[0;34m,\u001b[0m \u001b[0mlen\u001b[0m\u001b[0;34m(\u001b[0m\u001b[0murl_html\u001b[0m\u001b[0;34m)\u001b[0m\u001b[0;34m)\u001b[0m\u001b[0;34m:\u001b[0m\u001b[0;34m\u001b[0m\u001b[0;34m\u001b[0m\u001b[0m\n\u001b[0;32m---> 10\u001b[0;31m     \u001b[0mspeech_html\u001b[0m\u001b[0;34m.\u001b[0m\u001b[0mappend\u001b[0m\u001b[0;34m(\u001b[0m\u001b[0murl_html\u001b[0m\u001b[0;34m[\u001b[0m\u001b[0mi\u001b[0m\u001b[0;34m]\u001b[0m\u001b[0;34m.\u001b[0m\u001b[0msplit\u001b[0m\u001b[0;34m(\u001b[0m\u001b[0;34m\"andy-haldane-\"\u001b[0m\u001b[0;34m,\u001b[0m \u001b[0;36m1\u001b[0m\u001b[0;34m)\u001b[0m\u001b[0;34m[\u001b[0m\u001b[0;36m1\u001b[0m\u001b[0;34m]\u001b[0m\u001b[0;34m)\u001b[0m\u001b[0;34m\u001b[0m\u001b[0;34m\u001b[0m\u001b[0m\n\u001b[0m\u001b[1;32m     11\u001b[0m \u001b[0;34m\u001b[0m\u001b[0m\n\u001b[1;32m     12\u001b[0m \u001b[0;34m\u001b[0m\u001b[0m\n",
            "\u001b[0;31mIndexError\u001b[0m: list index out of range"
          ]
        }
      ]
    },
    {
      "cell_type": "code",
      "source": [
        "#@title Create dataframe of speech titles, texts, and tokens\n",
        "# Combine elements from d1 and d2 first\n",
        "speeches = pd.DataFrame(data = {\"speech\": speech})\n",
        "speeches[\"text\"] = speeches[\"speech\"].map(d1)\n",
        "speeches[\"token\"] = speeches[\"speech\"].map(d2)\n",
        "\n",
        "# Create a temporary dataframe that combines elements from d3 and d4\n",
        "temp = pd.DataFrame(data = {\"speech\": speech_html})\n",
        "temp[\"text\"] = temp[\"speech\"].map(d3)\n",
        "temp[\"token\"] = temp[\"speech\"].map(d3)\n",
        "\n",
        "# Merge both dataframes\n",
        "speeches = pd.concat([speeches, temp], ignore_index = True)\n",
        "speeches"
      ],
      "metadata": {
        "id": "CwefUBVwflAv",
        "colab": {
          "base_uri": "https://localhost:8080/",
          "height": 89
        },
        "outputId": "c56ae2cd-af89-4e6f-b292-25748c543c4c"
      },
      "execution_count": 21,
      "outputs": [
        {
          "output_type": "execute_result",
          "data": {
            "text/plain": [
              "Empty DataFrame\n",
              "Columns: [speech, text, token]\n",
              "Index: []"
            ],
            "text/html": [
              "\n",
              "  <div id=\"df-4efc07e6-d136-465e-8cf2-35f525852c1d\" class=\"colab-df-container\">\n",
              "    <div>\n",
              "<style scoped>\n",
              "    .dataframe tbody tr th:only-of-type {\n",
              "        vertical-align: middle;\n",
              "    }\n",
              "\n",
              "    .dataframe tbody tr th {\n",
              "        vertical-align: top;\n",
              "    }\n",
              "\n",
              "    .dataframe thead th {\n",
              "        text-align: right;\n",
              "    }\n",
              "</style>\n",
              "<table border=\"1\" class=\"dataframe\">\n",
              "  <thead>\n",
              "    <tr style=\"text-align: right;\">\n",
              "      <th></th>\n",
              "      <th>speech</th>\n",
              "      <th>text</th>\n",
              "      <th>token</th>\n",
              "    </tr>\n",
              "  </thead>\n",
              "  <tbody>\n",
              "  </tbody>\n",
              "</table>\n",
              "</div>\n",
              "    <div class=\"colab-df-buttons\">\n",
              "\n",
              "  <div class=\"colab-df-container\">\n",
              "    <button class=\"colab-df-convert\" onclick=\"convertToInteractive('df-4efc07e6-d136-465e-8cf2-35f525852c1d')\"\n",
              "            title=\"Convert this dataframe to an interactive table.\"\n",
              "            style=\"display:none;\">\n",
              "\n",
              "  <svg xmlns=\"http://www.w3.org/2000/svg\" height=\"24px\" viewBox=\"0 -960 960 960\">\n",
              "    <path d=\"M120-120v-720h720v720H120Zm60-500h600v-160H180v160Zm220 220h160v-160H400v160Zm0 220h160v-160H400v160ZM180-400h160v-160H180v160Zm440 0h160v-160H620v160ZM180-180h160v-160H180v160Zm440 0h160v-160H620v160Z\"/>\n",
              "  </svg>\n",
              "    </button>\n",
              "\n",
              "  <style>\n",
              "    .colab-df-container {\n",
              "      display:flex;\n",
              "      gap: 12px;\n",
              "    }\n",
              "\n",
              "    .colab-df-convert {\n",
              "      background-color: #E8F0FE;\n",
              "      border: none;\n",
              "      border-radius: 50%;\n",
              "      cursor: pointer;\n",
              "      display: none;\n",
              "      fill: #1967D2;\n",
              "      height: 32px;\n",
              "      padding: 0 0 0 0;\n",
              "      width: 32px;\n",
              "    }\n",
              "\n",
              "    .colab-df-convert:hover {\n",
              "      background-color: #E2EBFA;\n",
              "      box-shadow: 0px 1px 2px rgba(60, 64, 67, 0.3), 0px 1px 3px 1px rgba(60, 64, 67, 0.15);\n",
              "      fill: #174EA6;\n",
              "    }\n",
              "\n",
              "    .colab-df-buttons div {\n",
              "      margin-bottom: 4px;\n",
              "    }\n",
              "\n",
              "    [theme=dark] .colab-df-convert {\n",
              "      background-color: #3B4455;\n",
              "      fill: #D2E3FC;\n",
              "    }\n",
              "\n",
              "    [theme=dark] .colab-df-convert:hover {\n",
              "      background-color: #434B5C;\n",
              "      box-shadow: 0px 1px 3px 1px rgba(0, 0, 0, 0.15);\n",
              "      filter: drop-shadow(0px 1px 2px rgba(0, 0, 0, 0.3));\n",
              "      fill: #FFFFFF;\n",
              "    }\n",
              "  </style>\n",
              "\n",
              "    <script>\n",
              "      const buttonEl =\n",
              "        document.querySelector('#df-4efc07e6-d136-465e-8cf2-35f525852c1d button.colab-df-convert');\n",
              "      buttonEl.style.display =\n",
              "        google.colab.kernel.accessAllowed ? 'block' : 'none';\n",
              "\n",
              "      async function convertToInteractive(key) {\n",
              "        const element = document.querySelector('#df-4efc07e6-d136-465e-8cf2-35f525852c1d');\n",
              "        const dataTable =\n",
              "          await google.colab.kernel.invokeFunction('convertToInteractive',\n",
              "                                                    [key], {});\n",
              "        if (!dataTable) return;\n",
              "\n",
              "        const docLinkHtml = 'Like what you see? Visit the ' +\n",
              "          '<a target=\"_blank\" href=https://colab.research.google.com/notebooks/data_table.ipynb>data table notebook</a>'\n",
              "          + ' to learn more about interactive tables.';\n",
              "        element.innerHTML = '';\n",
              "        dataTable['output_type'] = 'display_data';\n",
              "        await google.colab.output.renderOutput(dataTable, element);\n",
              "        const docLink = document.createElement('div');\n",
              "        docLink.innerHTML = docLinkHtml;\n",
              "        element.appendChild(docLink);\n",
              "      }\n",
              "    </script>\n",
              "  </div>\n",
              "\n",
              "\n",
              "  <div id=\"id_eee0a521-fbb4-4363-a715-9d9528e3c801\">\n",
              "    <style>\n",
              "      .colab-df-generate {\n",
              "        background-color: #E8F0FE;\n",
              "        border: none;\n",
              "        border-radius: 50%;\n",
              "        cursor: pointer;\n",
              "        display: none;\n",
              "        fill: #1967D2;\n",
              "        height: 32px;\n",
              "        padding: 0 0 0 0;\n",
              "        width: 32px;\n",
              "      }\n",
              "\n",
              "      .colab-df-generate:hover {\n",
              "        background-color: #E2EBFA;\n",
              "        box-shadow: 0px 1px 2px rgba(60, 64, 67, 0.3), 0px 1px 3px 1px rgba(60, 64, 67, 0.15);\n",
              "        fill: #174EA6;\n",
              "      }\n",
              "\n",
              "      [theme=dark] .colab-df-generate {\n",
              "        background-color: #3B4455;\n",
              "        fill: #D2E3FC;\n",
              "      }\n",
              "\n",
              "      [theme=dark] .colab-df-generate:hover {\n",
              "        background-color: #434B5C;\n",
              "        box-shadow: 0px 1px 3px 1px rgba(0, 0, 0, 0.15);\n",
              "        filter: drop-shadow(0px 1px 2px rgba(0, 0, 0, 0.3));\n",
              "        fill: #FFFFFF;\n",
              "      }\n",
              "    </style>\n",
              "    <button class=\"colab-df-generate\" onclick=\"generateWithVariable('speeches')\"\n",
              "            title=\"Generate code using this dataframe.\"\n",
              "            style=\"display:none;\">\n",
              "\n",
              "  <svg xmlns=\"http://www.w3.org/2000/svg\" height=\"24px\"viewBox=\"0 0 24 24\"\n",
              "       width=\"24px\">\n",
              "    <path d=\"M7,19H8.4L18.45,9,17,7.55,7,17.6ZM5,21V16.75L18.45,3.32a2,2,0,0,1,2.83,0l1.4,1.43a1.91,1.91,0,0,1,.58,1.4,1.91,1.91,0,0,1-.58,1.4L9.25,21ZM18.45,9,17,7.55Zm-12,3A5.31,5.31,0,0,0,4.9,8.1,5.31,5.31,0,0,0,1,6.5,5.31,5.31,0,0,0,4.9,4.9,5.31,5.31,0,0,0,6.5,1,5.31,5.31,0,0,0,8.1,4.9,5.31,5.31,0,0,0,12,6.5,5.46,5.46,0,0,0,6.5,12Z\"/>\n",
              "  </svg>\n",
              "    </button>\n",
              "    <script>\n",
              "      (() => {\n",
              "      const buttonEl =\n",
              "        document.querySelector('#id_eee0a521-fbb4-4363-a715-9d9528e3c801 button.colab-df-generate');\n",
              "      buttonEl.style.display =\n",
              "        google.colab.kernel.accessAllowed ? 'block' : 'none';\n",
              "\n",
              "      buttonEl.onclick = () => {\n",
              "        google.colab.notebook.generateWithVariable('speeches');\n",
              "      }\n",
              "      })();\n",
              "    </script>\n",
              "  </div>\n",
              "\n",
              "    </div>\n",
              "  </div>\n"
            ],
            "application/vnd.google.colaboratory.intrinsic+json": {
              "type": "dataframe",
              "variable_name": "speeches",
              "repr_error": "Out of range float values are not JSON compliant: nan"
            }
          },
          "metadata": {},
          "execution_count": 21
        }
      ]
    }
  ]
}