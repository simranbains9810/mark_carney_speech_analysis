{
  "nbformat": 4,
  "nbformat_minor": 0,
  "metadata": {
    "colab": {
      "provenance": [],
      "authorship_tag": "ABX9TyMfGJYXZcZgrOZ/A86wRdnC",
      "include_colab_link": true
    },
    "kernelspec": {
      "name": "python3",
      "display_name": "Python 3"
    },
    "language_info": {
      "name": "python"
    }
  },
  "cells": [
    {
      "cell_type": "markdown",
      "metadata": {
        "id": "view-in-github",
        "colab_type": "text"
      },
      "source": [
        "<a href=\"https://colab.research.google.com/github/simranbains9810/mark_carney_speech_analysis/blob/main/speech_analysis.ipynb\" target=\"_parent\"><img src=\"https://colab.research.google.com/assets/colab-badge.svg\" alt=\"Open In Colab\"/></a>"
      ]
    },
    {
      "cell_type": "markdown",
      "source": [
        "# **Key risk identification from Mark Carney speeches**"
      ],
      "metadata": {
        "id": "eT-aurtorkh2"
      }
    },
    {
      "cell_type": "markdown",
      "source": [
        "Installing and updating the text mining library pdfplumber into the local Colab environment"
      ],
      "metadata": {
        "id": "5wcrcwosfUQI"
      }
    },
    {
      "cell_type": "code",
      "source": [
        "!pip install --upgrade pdfplumber"
      ],
      "metadata": {
        "colab": {
          "base_uri": "https://localhost:8080/"
        },
        "id": "tCg0tcTzre09",
        "outputId": "50d2a766-2410-4950-d374-689a80341e92"
      },
      "execution_count": 1,
      "outputs": [
        {
          "output_type": "stream",
          "name": "stdout",
          "text": [
            "Requirement already satisfied: pdfplumber in /usr/local/lib/python3.10/dist-packages (0.11.4)\n",
            "Requirement already satisfied: pdfminer.six==20231228 in /usr/local/lib/python3.10/dist-packages (from pdfplumber) (20231228)\n",
            "Requirement already satisfied: Pillow>=9.1 in /usr/local/lib/python3.10/dist-packages (from pdfplumber) (11.0.0)\n",
            "Requirement already satisfied: pypdfium2>=4.18.0 in /usr/local/lib/python3.10/dist-packages (from pdfplumber) (4.30.0)\n",
            "Requirement already satisfied: charset-normalizer>=2.0.0 in /usr/local/lib/python3.10/dist-packages (from pdfminer.six==20231228->pdfplumber) (3.4.0)\n",
            "Requirement already satisfied: cryptography>=36.0.0 in /usr/local/lib/python3.10/dist-packages (from pdfminer.six==20231228->pdfplumber) (43.0.3)\n",
            "Requirement already satisfied: cffi>=1.12 in /usr/local/lib/python3.10/dist-packages (from cryptography>=36.0.0->pdfminer.six==20231228->pdfplumber) (1.17.1)\n",
            "Requirement already satisfied: pycparser in /usr/local/lib/python3.10/dist-packages (from cffi>=1.12->cryptography>=36.0.0->pdfminer.six==20231228->pdfplumber) (2.22)\n"
          ]
        }
      ]
    },
    {
      "cell_type": "markdown",
      "source": [
        "# **Web scraping, text extraction and text pre-processing Mark Carney speeches**"
      ],
      "metadata": {
        "id": "HysLV0ICf1I5"
      }
    },
    {
      "cell_type": "markdown",
      "source": [
        "This section outlies the comprehensive text mining operations executed to analyse Mark Carney's speeches. These operations encompass several stages, including scripts for web scraping to gather speeches from the Bank of England's website, text extraction, and conversion to plain text format. Further preprocessing steps involve word tokenization and the removal of stop words to prepare the data for analysis. The speeches were specifically sourced from the Bank of England's website by applying filters to isolate those given by Mark Carney."
      ],
      "metadata": {
        "id": "pbsQ_QvXhRQC"
      }
    },
    {
      "cell_type": "code",
      "source": [
        "# Define the directory path\n",
        "import os\n",
        "directory_path = \"/content/speeches\"\n",
        "os.mkdir(directory_path)"
      ],
      "metadata": {
        "id": "aP5NwZWKil78",
        "colab": {
          "base_uri": "https://localhost:8080/",
          "height": 180
        },
        "outputId": "c76bc89b-3b1f-4074-85e9-bc683a93b763"
      },
      "execution_count": 2,
      "outputs": [
        {
          "output_type": "error",
          "ename": "FileExistsError",
          "evalue": "[Errno 17] File exists: '/content/speeches'",
          "traceback": [
            "\u001b[0;31m---------------------------------------------------------------------------\u001b[0m",
            "\u001b[0;31mFileExistsError\u001b[0m                           Traceback (most recent call last)",
            "\u001b[0;32m<ipython-input-2-fab002f70a20>\u001b[0m in \u001b[0;36m<cell line: 4>\u001b[0;34m()\u001b[0m\n\u001b[1;32m      2\u001b[0m \u001b[0;32mimport\u001b[0m \u001b[0mos\u001b[0m\u001b[0;34m\u001b[0m\u001b[0;34m\u001b[0m\u001b[0m\n\u001b[1;32m      3\u001b[0m \u001b[0mdirectory_path\u001b[0m \u001b[0;34m=\u001b[0m \u001b[0;34m\"/content/speeches\"\u001b[0m\u001b[0;34m\u001b[0m\u001b[0;34m\u001b[0m\u001b[0m\n\u001b[0;32m----> 4\u001b[0;31m \u001b[0mos\u001b[0m\u001b[0;34m.\u001b[0m\u001b[0mmkdir\u001b[0m\u001b[0;34m(\u001b[0m\u001b[0mdirectory_path\u001b[0m\u001b[0;34m)\u001b[0m\u001b[0;34m\u001b[0m\u001b[0;34m\u001b[0m\u001b[0m\n\u001b[0m",
            "\u001b[0;31mFileExistsError\u001b[0m: [Errno 17] File exists: '/content/speeches'"
          ]
        }
      ]
    },
    {
      "cell_type": "code",
      "source": [
        "%cd speeches"
      ],
      "metadata": {
        "colab": {
          "base_uri": "https://localhost:8080/"
        },
        "id": "xYs5RfY5FTyo",
        "outputId": "7ce7c003-19e4-449f-d537-a6454129a086"
      },
      "execution_count": 3,
      "outputs": [
        {
          "output_type": "stream",
          "name": "stdout",
          "text": [
            "/content/speeches\n"
          ]
        }
      ]
    },
    {
      "cell_type": "code",
      "source": [
        "import requests\n",
        "urls = [\"https://www.bankofengland.co.uk/-/media/boe/files/speech/2020/the-grand-unifying-theory-and-practice-of-macroprudential-policy-speech-by-mark-carney.pdf\",\n",
        "        \"https://www.bankofengland.co.uk/-/media/boe/files/speech/2020/the-road-to-glasgow-speech-by-mark-carney.pdf\",\n",
        "        \"https://www.bankofengland.co.uk/speech/2020/mark-carney-opening-remarks-at-the-future-of-inflation-targeting-conference\",\n",
        "        \"https://www.bankofengland.co.uk/-/media/boe/files/speech/2019/remarks-by-mark-carney-at-the-ecb-farewell-board-dinner-for-benoit-coeure.pdf\",\n",
        "        \"https://www.bankofengland.co.uk/-/media/boe/files/speech/2019/remarks-by-mark-carney-at-the-us-climate-action-centre-madrid.pdf\",\n",
        "        \"https://www.bankofengland.co.uk/-/media/boe/files/speech/2019/addressing-the-growing-challenges-in-the-international-monetary-and-financial-system-slides.pdf\",\n",
        "        \"https://www.bankofengland.co.uk/-/media/boe/files/speech/2019/light-is-therefore-colour-governor-remarks-at-the-new-20-launch.pdf\",\n",
        "        \"https://www.bankofengland.co.uk/-/media/boe/files/speech/2019/tcfd-strengthening-the-foundations-of-sustainable-finance-speech-by-mark-carney.pdf\",\n",
        "        \"https://www.bankofengland.co.uk/-/media/boe/files/speech/2019/remarks-given-during-the-un-secretary-generals-climate-actions-summit-2019-mark-carney.pdf\",\n",
        "        \"https://www.bankofengland.co.uk/-/media/boe/files/speech/2019/the-growing-challenges-for-monetary-policy-speech-by-mark-carney.pdf\",\n",
        "        \"https://www.bankofengland.co.uk/speech/2019/50-note-character-selection-announcement\",\n",
        "        \"https://www.bankofengland.co.uk/-/media/boe/files/speech/2019/sea-change-speech-by-mark-carney.pdf\",\n",
        "        \"https://www.bankofengland.co.uk/-/media/boe/files/speech/2019/enable-empower-ensure-a-new-finance-for-the-new-economy-speech-by-mark-carney.pdf\",\n",
        "        \"https://www.bankofengland.co.uk/-/media/boe/files/speech/2019/remarks-to-open-policy-panel-by-mark-carney.pdf\",\n",
        "        \"https://www.bankofengland.co.uk/-/media/boe/files/speech/2019/finance-by-all-for-all-speech-by-mark-carney.pdf\",\n",
        "        \"https://www.bankofengland.co.uk/-/media/boe/files/speech/2019/pull-push-pipes-sustainable-capital-flows-for-a-new-world-order-speech-by-mark-carney.pdf\",\n",
        "        \"https://www.bankofengland.co.uk/-/media/boe/files/speech/2019/a-platform-for-innovation-remarks-by-mark-carney.pdf\",\n",
        "        \"https://www.bankofengland.co.uk/-/media/boe/files/speech/2019/investing-in-ethnicity-and-race-speech-by-mark-carney.pdf\",\n",
        "        \"https://www.bankofengland.co.uk/speech/2019/mark-carney-speech-at-european-commission-high-level-conference-brussels\",\n",
        "        \"https://www.bankofengland.co.uk/-/media/boe/files/speech/2019/the-global-outlook-speech-by-mark-carney.pdf\",\n",
        "        \"https://www.bankofengland.co.uk/-/media/boe/files/speech/2018/remarks-at-the-accounting-for-sustainability-summit-2018.pdf\",\n",
        "        \"https://www.bankofengland.co.uk/-/media/boe/files/speech/2018/50-character-selection-and-future-forum-launch.pdf\",\n",
        "        \"https://www.bankofengland.co.uk/-/media/boe/files/speech/2018/ai-and-the-global-economy-mark-carney-slides.pdf\",\n",
        "        \"https://www.bankofengland.co.uk/-/media/boe/files/speech/2018/true-finance-ten-years-after-the-financial-crisis-speech-by-mark-carney.pdf\",\n",
        "        \"https://www.bankofengland.co.uk/-/media/boe/files/speech/2018/the-future-of-work-speech-by-mark-carney.pdf\",\n",
        "        \"https://www.bankofengland.co.uk/-/media/boe/files/speech/2018/from-protectionism-to-prosperity-speech-by-mark-carney.pdf\",\n",
        "        \"https://www.bankofengland.co.uk/-/media/boe/files/speech/2018/new-economy-new-finance-new-bank-speech-by-mark-carney.pdf\",\n",
        "        \"https://www.bankofengland.co.uk/-/media/boe/files/speech/2018/guidance-contingencies-and-brexit-speech-by-mark-carney.pdf\",\n",
        "        \"https://www.bankofengland.co.uk/-/media/boe/files/speech/2018/staying-connected-speech-by-mark-carney.pdf\",\n",
        "        \"https://www.bankofengland.co.uk/-/media/boe/files/speech/2018/opening-remarks-by-mark-carney-at-the-econome-launch-event.pdf\",\n",
        "        \"https://www.bankofengland.co.uk/speech/2018/mark-carney-speech-at-the-public-policy-forum-toronto\",\n",
        "        \"https://www.bankofengland.co.uk/-/media/boe/files/speech/2018/a-transition-in-thinking-and-action-speech-by-mark-carney.pdf\",\n",
        "        \"https://www.bankofengland.co.uk/-/media/boe/files/speech/2018/the-future-of-money-speech-by-mark-carney.pdf\",\n",
        "        \"https://www.bankofengland.co.uk/-/media/boe/files/speech/2018/reflections-on-leadership-in-a-disruptive-age-speech-by-mark-carney.pdf\",\n",
        "        \"https://www.bankofengland.co.uk/-/media/boe/files/speech/2017/turning-back-the-tide-speech-by-mark-carney.pdf\",\n",
        "        \"https://www.bankofengland.co.uk/-/media/boe/files/speech/2017/opening-remarks-at-future-forum-2017.pdf\",\n",
        "        \"https://www.bankofengland.co.uk/-/media/boe/files/speech/2017/opening-remarks-at-the-boe-independence-20-years-on-conference.pdf\",\n",
        "        \"https://www.bankofengland.co.uk/-/media/boe/files/speech/2017/de-globalisation-and-inflation.pdf\",\n",
        "        \"https://www.bankofengland.co.uk/-/media/boe/files/speech/2017/policy-panel-investment-and-growth-in-advanced-economies.pdf\",\n",
        "        \"https://www.bankofengland.co.uk/-/media/boe/files/speech/2017/a-fine-balance.pdf\",\n",
        "        \"https://www.bankofengland.co.uk/-/media/boe/files/speech/2017/what-a-difference-a-decade-makes.pdf\",\n",
        "        \"https://www.bankofengland.co.uk/-/media/boe/files/speech/2017/building-the-infrastructure-to-realise-fintechs-promise.pdf\",\n",
        "        \"https://www.bankofengland.co.uk/-/media/boe/files/speech/2017/the-high-road-to-a-responsible-open-financial-system.pdf\",\n",
        "        \"https://www.bankofengland.co.uk/-/media/boe/files/speech/2017/banking-standards-board-worthy-of-trust-law-ethics-and-culture-in-banking.pdf\",\n",
        "        \"https://www.bankofengland.co.uk/-/media/boe/files/speech/2017/reflecting-diversity-choosing-the-inclusion.pdf\",\n",
        "        \"https://www.bankofengland.co.uk/-/media/boe/files/speech/2017/the-promise-of-fintech-something-new-under-the-sun.pdf\",\n",
        "        \"https://www.bankofengland.co.uk/-/media/boe/files/speech/2017/lambda.pdf\",\n",
        "        \"https://www.bankofengland.co.uk/-/media/boe/files/speech/2016/remarks-on-the-launch-of-the-recommendations-of-the-task-force-on-climate-related.pdf\",\n",
        "        \"https://www.bankofengland.co.uk/-/media/boe/files/speech/2016/the-spectre-of-monetarism.pdf\",\n",
        "        \"https://www.bankofengland.co.uk/-/media/boe/files/speech/2016/resolving-the-climate-paradox.pdf\",\n",
        "        \"https://www.bankofengland.co.uk/-/media/boe/files/speech/2016/uncertainty-the-economy-and-policy.pdf\",\n",
        "        \"https://www.bankofengland.co.uk/-/media/boe/files/speech/2016/enabling-the-fintech-transformation-revolution-restoration-or-reformation.pdf\",\n",
        "        \"https://www.bankofengland.co.uk/-/media/boe/files/speech/2016/the-sustainable-development-goal-imperative.pdf\",\n",
        "        \"https://www.bankofengland.co.uk/-/media/boe/files/speech/2016/opening-remarks-by-mark-carney-to-the-empowering-productivity-harnessing-the-talents.pdf\",\n",
        "        \"https://www.bankofengland.co.uk/-/media/boe/files/speech/2016/redeeming-an-unforgiving-world.pdf\",\n",
        "        \"https://www.bankofengland.co.uk/-/media/boe/files/speech/2016/the-turn-of-the-year.pdf\",\n",
        "        \"https://www.bankofengland.co.uk/-/media/boe/files/speech/2015/opening-statement-at-the-european-parliaments-econ-committee.pdf\",\n",
        "        \"https://www.bankofengland.co.uk/-/media/boe/files/speech/2015/closing-remarks-to-the-boe-open-forum.pdf\",\n",
        "        \"https://www.bankofengland.co.uk/-/media/boe/files/speech/2015/introduction-to-the-open-forum.pdf\",\n",
        "        \"https://www.bankofengland.co.uk/-/media/boe/files/speech/2015/the-european-union-monetary-and-financial-stability-and-the-boe.pdf\",\n",
        "        \"https://www.bankofengland.co.uk/-/media/boe/files/speech/2015/breaking-the-tragedy-of-the-horizon-climate-change-and-financial-stability.pdf\",\n",
        "        \"https://www.bankofengland.co.uk/-/media/boe/files/speech/2015/three-truths-for-finance.pdf\",\n",
        "        \"https://www.bankofengland.co.uk/-/media/boe/files/speech/2015/inflation-in-a-globalised-world.pdf\",\n",
        "        \"https://www.bankofengland.co.uk/-/media/boe/files/speech/2015/from-lincoln-to-lothbury-magna-carta-and-the-boe.pdf\",\n",
        "        #\"https://www.bankofengland.co.uk/speech/2015/inclusive-capitalism-conference-in-conversation-with-governor-mark-carney\",\n",
        "        \"https://www.bankofengland.co.uk/-/media/boe/files/speech/2015/building-real-markets-for-the-good-of-the-people.pdf\",\n",
        "        \"https://www.bankofengland.co.uk/-/media/boe/files/speech/2015/writing-the-path-back-to-target.pdf\",\n",
        "        \"https://www.bankofengland.co.uk/-/media/boe/files/speech/2015/one-bank-research-agenda-launch-conference.pdf\",\n",
        "        \"https://www.bankofengland.co.uk/-/media/boe/files/speech/2015/fortune-favours-the-bold.pdf\",\n",
        "        \"https://www.bankofengland.co.uk/-/media/boe/files/speech/2014/the-future-of-financial-reform.pdf\",\n",
        "        \"https://www.bankofengland.co.uk/-/media/boe/files/speech/2014/regulatory-work-underway-and-lessons-learned.pdf\",\n",
        "        \"https://www.bankofengland.co.uk/-/media/boe/files/speech/2014/putting-the-right-ideas-into-practice.pdf\",\n",
        "        \"https://www.bankofengland.co.uk/-/media/boe/files/speech/2014/mark-carney-speech-at-the-trades-union-congress.pdf\",\n",
        "        \"https://www.bankofengland.co.uk/-/media/boe/files/speech/2014/winning-the-economic-marathon.pdf\",\n",
        "        \"https://www.bankofengland.co.uk/-/media/boe/files/speech/2014/mark-carney-speech-at-the-lord-mayors-banquet-for-bankers-and-merchants-of-the-city-of-london.pdf\",\n",
        "        \"https://www.bankofengland.co.uk/-/media/boe/files/speech/2014/inclusive-capitalism-creating-a-sense-of-the-systemic.pdf\",\n",
        "        \"https://www.bankofengland.co.uk/-/media/boe/files/speech/2014/one-mission-one-bank-promoting-the-good-of-the-people-of-the-uk.pdf\",\n",
        "        \"https://www.bankofengland.co.uk/-/media/boe/files/speech/2014/the-economics-of-currency-unions.pdf\",\n",
        "        \"https://www.bankofengland.co.uk/-/media/boe/files/speech/2014/remarks-given-by-mark-carney-at-davos-cbi-british-business-leaders-lunch.pdf\",\n",
        "        \"https://www.bankofengland.co.uk/-/media/boe/files/speech/2013/remarks-given-by-mark-carney-governor-regarding-polymer-notes-and-the-review-of-the-banknote-charact.pdf\",\n",
        "        \"https://www.bankofengland.co.uk/-/media/boe/files/speech/2013/the-spirit-of-the-season.pdf\",\n",
        "        \"https://www.bankofengland.co.uk/-/media/boe/files/speech/2013/the-uk-at-the-heart-of-a-renewed-globalisation.pdf\",\n",
        "        \"https://www.bankofengland.co.uk/-/media/boe/files/speech/2013/crossing-the-threshold-to-recovery.pdf\",\n",
        "        \"https://www.bankofengland.co.uk/-/media/boe/files/speech/2013/jane-austens-house-museum-remarks-by-mark-carney.pdf\"\n",
        "]"
      ],
      "metadata": {
        "id": "n237A4VVGCv0"
      },
      "execution_count": 4,
      "outputs": []
    },
    {
      "cell_type": "code",
      "source": [
        "# Scraping PDFs from URLs\n",
        "for url in urls:\n",
        "    response = requests.get(url)\n",
        "    if response.status_code == 200:\n",
        "        file_path = os.path.join(directory_path, os.path.basename(url))\n",
        "        with open(file_path, \"wb\") as f:\n",
        "            f.write(response.content)"
      ],
      "metadata": {
        "id": "LJfAi5F0YBHR"
      },
      "execution_count": 5,
      "outputs": []
    },
    {
      "cell_type": "markdown",
      "source": [
        "# **Text Extraction**"
      ],
      "metadata": {
        "id": "zHuvf5jpYWcz"
      }
    },
    {
      "cell_type": "code",
      "source": [
        "#@title Text extraction from PDFs\n",
        "import pdfplumber\n",
        "\n",
        "# Create a list of PDF file names and text file names\n",
        "pdf_list = os.listdir(directory_path)\n",
        "txt_list = [pdf[:-4] + \".txt\" for pdf in pdf_list]\n",
        "\n",
        "# Extracting text and saving output in dictionary\n",
        "for i in range(0, len(pdf_list)):\n",
        "    out = open(txt_list[i], \"wt\")  # open text output\n",
        "    with pdfplumber.open(os.fsdecode(pdf_list[i])) as pdf:\n",
        "        for pdf_page in pdf.pages:\n",
        "            page_text = pdf_page.extract_text()\n",
        "            out.write(page_text)\n",
        "        out.close()"
      ],
      "metadata": {
        "id": "0PJYNPzoYHfI"
      },
      "execution_count": 6,
      "outputs": []
    },
    {
      "cell_type": "code",
      "source": [
        "import pandas as pd  # data processing, CSV file I/O\n",
        "import re            # regular expression operations\n",
        "import unicodedata\n",
        "import spacy         # modern NLP library\n",
        "\n",
        "# Load the spaCy model\n",
        "nlp = spacy.load(\"en_core_web_sm\")\n",
        "\n",
        "# Create a list of speech titles without any suffix\n",
        "speech = [pdf[:-4] for pdf in pdf_list]\n",
        "\n",
        "# Read text files as CSV files into a dictionary\n",
        "d1 = {}\n",
        "\n",
        "for i in range(len(speech)):\n",
        "    # Read the text file\n",
        "    d1[speech[i]] = pd.read_csv(\n",
        "        txt_list[i], delimiter=\"\\n\", names=[\"text\"]\n",
        "    )\n",
        "    # Concatenate all rows into one string\n",
        "    d1[speech[i]][\"text\"] = d1[speech[i]][\"text\"].str.cat(sep=\" \")\n",
        "    # Replace the DataFrame with the text content\n",
        "    d1[speech[i]] = d1[speech[i]][\"text\"]\n",
        "\n",
        "    # Pass text through spaCy NLP pipeline for normalization and processing\n",
        "    doc = nlp(d1[speech[i]])\n",
        "\n",
        "    # Normalize and clean text\n",
        "    tokens = [\n",
        "        token.text.lower() for token in doc\n",
        "        if not token.is_stop and not token.is_punct\n",
        "    ]\n",
        "    d1[speech[i]] = \" \".join(tokens)\n",
        "\n",
        "# Remove repeating strings\n",
        "del_strings = [\n",
        "    \"all speeches are available online at\",\n",
        "    \"all speeches are available online\",\n",
        "    \"all speeches available online\",\n",
        "    \"speeches are available online at\",\n",
        "    \"speeches available online at\",\n",
        "    \"speeches available online\",\n",
        "    \"wwwbankofenglandcoukpublicationspagesspeechesdefaultaspx\",\n",
        "    \"wwwbankofenglandcoukpublicationsspeeches\",\n",
        "    \"wwwbankofenglandcouknewsspeeches\",\n",
        "    \"wwwbankofenglandcoukspeeches\",\n",
        "    \"boepressoffice\",\n",
        "    \"remarks by\",\n",
        "    \"speech given by\",\n",
        "    \"mark carney\",\n",
        "    \"the views are not necessarily those of the bank of england or the monetary policy committee\",\n",
        "    \"the views are not necessarily those of the bank of england or the financial policy committee\",\n",
        "    \"the views expressed within are not necessarily those of the bank of england or the monetary policy committee\",\n",
        "    \"the views expressed within are not necessarily those of the bank of england or the financial policy committee\",\n",
        "    \"i would like to thank\",\n",
        "    \"and the staff of the bank’s archives\",\n",
        "    \"for comments and contributions\",\n",
        "    \"for their comments and contributions\",\n",
        "    \"et al\",\n",
        "]\n",
        "\n",
        "for i in range(len(speech)):\n",
        "    for pattern in del_strings:\n",
        "        d1[speech[i]] = re.sub(pattern, \" \", d1[speech[i]])\n",
        "    # Remove excess whitespace\n",
        "    d1[speech[i]] = re.sub(r\"\\s+\", \" \", d1[speech[i]])\n",
        "\n",
        "# Remove references section\n",
        "for i in range(len(speech)):\n",
        "    if \"references\" in d1[speech[i]]:\n",
        "        # Use greedy regex to remove everything after the last \"references\"\n",
        "        d1[speech[i]] = re.split(r\"references\", d1[speech[i]])[0]\n"
      ],
      "metadata": {
        "id": "dzMcR8F9Ydcv"
      },
      "execution_count": 31,
      "outputs": []
    },
    {
      "cell_type": "code",
      "source": [
        "# Tokenize and remove stop words using spaCy\n",
        "d2 = {}\n",
        "\n",
        "for i in range(len(speech)):\n",
        "    # Process the text with spaCy\n",
        "    doc = nlp(d1[speech[i]])\n",
        "\n",
        "    # Extract tokens, removing stop words and punctuation\n",
        "    tokens = [token.text for token in doc if not token.is_stop and not token.is_punct]\n",
        "\n",
        "    # Store the cleaned and tokenized text\n",
        "    d2[speech[i]] = \" \".join(tokens)\n",
        "\n",
        "# Print tokenized and cleaned speeches\n",
        "for key, text in d2.items():\n",
        "    print(f\"Tokenized and processed text for {key}:\\n{text}\\n\")"
      ],
      "metadata": {
        "id": "u-sfvEqQSDob"
      },
      "execution_count": 34,
      "outputs": []
    },
    {
      "cell_type": "code",
      "source": [
        "import spacy\n",
        "from bs4 import BeautifulSoup\n",
        "import requests\n",
        "import re\n",
        "import unicodedata\n",
        "\n",
        "# Load the spaCy model\n",
        "nlp = spacy.load(\"en_core_web_sm\")\n",
        "\n",
        "# List of URLs\n",
        "url_html = [\n",
        "    \"https://www.bankofengland.co.uk/speech/2015/inclusive-capitalism-conference-in-conversation-with-governor-mark-carney\",\n",
        "]\n",
        "\n",
        "speech_html = []\n",
        "for i in range(len(url_html)):\n",
        "    speech_html.append(url_html[i].split(\"-mark-carney\", 1)[1])\n",
        "\n",
        "# Parsing HTML using requests and BeautifulSoup\n",
        "soup = {}\n",
        "headers = {\n",
        "    \"User-Agent\": \"Mozilla/5.0 (Windows NT 10.0; Win64; x64) AppleWebKit/537.36 (KHTML, like Gecko) Chrome/114.0.0.0 Safari/537.36\"\n",
        "}\n",
        "\n",
        "for i, url in enumerate(url_html):\n",
        "    response = requests.get(url, headers=headers)\n",
        "    if response.status_code == 200:\n",
        "        soup[i] = BeautifulSoup(response.text, features=\"html.parser\")\n",
        "    else:\n",
        "        print(f\"Failed to fetch {url} with status code {response.status_code}\")\n",
        "\n",
        "# Extracting and cleaning text\n",
        "d3 = {}\n",
        "\n",
        "for i in range(len(soup)):\n",
        "    d3[speech_html[i]] = soup[i].get_text()\n",
        "    lines = (line.strip() for line in d3[speech_html[i]].splitlines())\n",
        "    chunks = (phrase.strip() for line in lines for phrase in line.split(\"  \"))\n",
        "    d3[speech_html[i]] = \" \".join(chunk for chunk in chunks if chunk)\n",
        "    d3[speech_html[i]] = d3[speech_html[i]].lower()\n",
        "    d3[speech_html[i]] = unicodedata.normalize(\"NFKD\", d3[speech_html[i]])\n",
        "    d3[speech_html[i]] = re.sub(r\"[^\\w\\s]\", \"\", d3[speech_html[i]])  # Remove punctuation\n",
        "    d3[speech_html[i]] = re.sub(r\"\\s+\", \" \", d3[speech_html[i]])  # Remove excess whitespaces\n",
        "\n",
        "# Tokenization and stop word removal using spaCy\n",
        "processed_text = {}\n",
        "\n",
        "for key, text in d3.items():\n",
        "    doc = nlp(text)\n",
        "    tokens = [token.text for token in doc if not token.is_stop and not token.is_punct]\n",
        "    processed_text[key] = \" \".join(tokens)\n",
        "\n",
        "# Print the processed text\n",
        "for key, text in processed_text.items():\n",
        "    print(f\"Processed text for {key}:\\n{text}\\n\")\n",
        "\n",
        "\n",
        "# Tokenize speech words using spaCy and remove stop words\n",
        "d4 = {}\n",
        "\n",
        "for key, text in d3.items():\n",
        "    doc = nlp(text)\n",
        "    # Extract tokens and remove stop words\n",
        "    tokens = [token.text for token in doc if not token.is_stop and not token.is_punct]\n",
        "    d4[key] = tokens\n",
        "\n",
        "# Join tokens back into a single string for further processing\n",
        "for key in d4:\n",
        "    d4[key] = \" \".join(d4[key])\n",
        "\n",
        "# Print the tokenized and cleaned speeches\n",
        "for key, text in d4.items():\n",
        "    print(f\"Tokenized and processed text for {key}:\\n{text}\\n\")\n"
      ],
      "metadata": {
        "colab": {
          "base_uri": "https://localhost:8080/"
        },
        "id": "SCQWZXSXP0MM",
        "outputId": "720865f4-c132-4b72-daa3-1758a32690e9"
      },
      "execution_count": 35,
      "outputs": [
        {
          "output_type": "stream",
          "name": "stdout",
          "text": [
            "Processed text for :\n",
            "inclusive capitalism conference conversation governor mark carney bank england use cookies use necessary cookies site work example manage session d like use nonessential cookies including thirdparty cookies help improve site clicking accept recommended settings banner accept use optional cookies necessary cookies analytics cookies yes yes accept recommended cookies yes proceed necessary cookies necessary cookies necessary cookies enable core functionality website security network management accessibility disable changing browser settings affect website functions analytics cookies use analytics cookies track number visitors parts site understand website information cookies work cookie policy skip main content main menu close main menu topics open topics sub menu main menu banknotes open banknotes sub menu main menu choosing banknote characters counterfeit banknotes current banknotes damaged contaminated banknotes exchanging old banknotes note circulation scheme advice retailers businesses scottish northern ireland banknotes images banknotes wholesale cash distribution future withdrawn banknotes careers open careers sub menu main menu application tips career returner programme 2025 future talent locations research careers value diversity inclusion offer join climate change digital pound education open education sub menu main menu competitions education resources research support programme request speaker school financial stability open financial stability sub menu main menu digital securities sandbox dss financial market infrastructure supervision operational resilience financial sector resolution trade repository tr data collections gold markets open markets sub menu main menu bank england market operations guide eligible collateral fair effective markets foreign currency reserves greening corporate bond purchase scheme cbps market intelligence money markets committee uk money markets code settlement collateral management sonia interest rate benchmark sterling bond portfolio transition libor riskfree rates monetary policy open monetary policy sub menu main menu inflation 2 target quantitative easing interest rates bank rate payment settlement open payment settlement sub menu main menu banking services chaps crossborder payments payment settlement statistics rtgs renewal programme prudential regulation open prudential regulation sub menu main menu authorisations new bank startup unit new insurer startup unit policy prudential resolution policy index regulatory reporting secondary objectives supervision bank englands approach enforcement research open research sub menu main menu bank england agenda research fintech future finance response research visitor programme research funding fellowships researchers statistics open statistics sub menu main menu banknote statistics bankstats tables data collection exchange rates gold statistics gross domestic product realtime database optionimplied probability density functions research datasets statistics requested users yield curves open sub menu main menu involved open involved sub menu main menu citizens forum community forums partners insights forum youth voice governance funding open governance funding sub menu main menu staff codes policies history people open people sub menu main menu agents chief cashiers court directors executive directors financial policy committee financial market infrastructure committee governors monetary policy committee prudential regulation committee news publications open news publications sub menu main menu events news minutes prudential regulation publications publications speeches statistical releases upcoming museum contact search searched enter search term home inclusive capitalism conference conversation governor mark carney inclusive capitalism conference conversation governor mark carney given mansion house london published 26 june 2015 governor mark carney participates onstage conversation economists editorinchief zanny mintonbeddoes conference inclusive capitalism pathway action governor discusses create core financial markets work fairly effectively deliver strong sustainable balanced growth play creating fair effective markets video mark carney governor bank england 2013 2020 convert page pdf speeches speech catherine l mann 14 november 2024 great moderation 20 years great moderation 20 years speech catherine l mann speech sarah breeden 31 october 2024 engaging machine ai financial engaging machine ai financial stability speech sarah breeden speech andrew bailey 26 october 2024 future money payments speech future money payments speech andrew bailey speech andrew bailey 24 october 2024 michael d gill memorial society lecture michael d gill memorial society lecture andrew bailey view speeches follow follow follow twitter connect linkedin add facebook follow instagram watch youtube find flickr museum like bank england museum facebook follow bank england museum twitter follow bank england museum instagram browse topics browse topics banknotes careers digital pound education financial stability gold markets monetary policy payment settlement prudential regulation research statistics useful links useful links archive contact explainers faqs freedom information glossary museum subscribe emails bank england threadneedle street london ec2r 8ah switchboard 44020 3461 4444 enquiries 44020 3461 4878 bank england museum bartholomew lane london ec2r 8ah accessibility statement cookies cymraeg legal privacy sitemap 2024 bank england\n",
            "\n",
            "Tokenized and processed text for :\n",
            "inclusive capitalism conference conversation governor mark carney bank england use cookies use necessary cookies site work example manage session d like use nonessential cookies including thirdparty cookies help improve site clicking accept recommended settings banner accept use optional cookies necessary cookies analytics cookies yes yes accept recommended cookies yes proceed necessary cookies necessary cookies necessary cookies enable core functionality website security network management accessibility disable changing browser settings affect website functions analytics cookies use analytics cookies track number visitors parts site understand website information cookies work cookie policy skip main content main menu close main menu topics open topics sub menu main menu banknotes open banknotes sub menu main menu choosing banknote characters counterfeit banknotes current banknotes damaged contaminated banknotes exchanging old banknotes note circulation scheme advice retailers businesses scottish northern ireland banknotes images banknotes wholesale cash distribution future withdrawn banknotes careers open careers sub menu main menu application tips career returner programme 2025 future talent locations research careers value diversity inclusion offer join climate change digital pound education open education sub menu main menu competitions education resources research support programme request speaker school financial stability open financial stability sub menu main menu digital securities sandbox dss financial market infrastructure supervision operational resilience financial sector resolution trade repository tr data collections gold markets open markets sub menu main menu bank england market operations guide eligible collateral fair effective markets foreign currency reserves greening corporate bond purchase scheme cbps market intelligence money markets committee uk money markets code settlement collateral management sonia interest rate benchmark sterling bond portfolio transition libor riskfree rates monetary policy open monetary policy sub menu main menu inflation 2 target quantitative easing interest rates bank rate payment settlement open payment settlement sub menu main menu banking services chaps crossborder payments payment settlement statistics rtgs renewal programme prudential regulation open prudential regulation sub menu main menu authorisations new bank startup unit new insurer startup unit policy prudential resolution policy index regulatory reporting secondary objectives supervision bank englands approach enforcement research open research sub menu main menu bank england agenda research fintech future finance response research visitor programme research funding fellowships researchers statistics open statistics sub menu main menu banknote statistics bankstats tables data collection exchange rates gold statistics gross domestic product realtime database optionimplied probability density functions research datasets statistics requested users yield curves open sub menu main menu involved open involved sub menu main menu citizens forum community forums partners insights forum youth voice governance funding open governance funding sub menu main menu staff codes policies history people open people sub menu main menu agents chief cashiers court directors executive directors financial policy committee financial market infrastructure committee governors monetary policy committee prudential regulation committee news publications open news publications sub menu main menu events news minutes prudential regulation publications publications speeches statistical releases upcoming museum contact search searched enter search term home inclusive capitalism conference conversation governor mark carney inclusive capitalism conference conversation governor mark carney given mansion house london published 26 june 2015 governor mark carney participates onstage conversation economists editorinchief zanny mintonbeddoes conference inclusive capitalism pathway action governor discusses create core financial markets work fairly effectively deliver strong sustainable balanced growth play creating fair effective markets video mark carney governor bank england 2013 2020 convert page pdf speeches speech catherine l mann 14 november 2024 great moderation 20 years great moderation 20 years speech catherine l mann speech sarah breeden 31 october 2024 engaging machine ai financial engaging machine ai financial stability speech sarah breeden speech andrew bailey 26 october 2024 future money payments speech future money payments speech andrew bailey speech andrew bailey 24 october 2024 michael d gill memorial society lecture michael d gill memorial society lecture andrew bailey view speeches follow follow follow twitter connect linkedin add facebook follow instagram watch youtube find flickr museum like bank england museum facebook follow bank england museum twitter follow bank england museum instagram browse topics browse topics banknotes careers digital pound education financial stability gold markets monetary policy payment settlement prudential regulation research statistics useful links useful links archive contact explainers faqs freedom information glossary museum subscribe emails bank england threadneedle street london ec2r 8ah switchboard 44020 3461 4444 enquiries 44020 3461 4878 bank england museum bartholomew lane london ec2r 8ah accessibility statement cookies cymraeg legal privacy sitemap 2024 bank england\n",
            "\n"
          ]
        }
      ]
    },
    {
      "cell_type": "code",
      "source": [
        "\n",
        "#@title Create dataframe of speech titles, texts, and tokens\n",
        "# Combine elements from d1 and d2 first\n",
        "speeches = pd.DataFrame(data = {\"speech\": speech})\n",
        "speeches[\"text\"] = speeches[\"speech\"].map(d1)\n",
        "speeches[\"token\"] = speeches[\"speech\"].map(d2)\n",
        "\n",
        "# Create a temporary dataframe that combines elements from d3 and d4\n",
        "temp = pd.DataFrame(data = {\"speech\": speech_html})\n",
        "temp[\"text\"] = temp[\"speech\"].map(d3)\n",
        "temp[\"token\"] = temp[\"speech\"].map(d3)\n",
        "\n",
        "# Merge both dataframes\n",
        "speeches = pd.concat([speeches, temp], ignore_index = True)\n",
        "speeches\n",
        ""
      ],
      "metadata": {
        "colab": {
          "base_uri": "https://localhost:8080/",
          "height": 89
        },
        "id": "0rTAgYlRQVNu",
        "outputId": "5a56a24f-2f90-4828-bd44-0e169156016b"
      },
      "execution_count": 36,
      "outputs": [
        {
          "output_type": "execute_result",
          "data": {
            "text/plain": [
              "  speech                                               text  \\\n",
              "0         inclusive capitalism conference in conversatio...   \n",
              "\n",
              "                                               token  \n",
              "0  inclusive capitalism conference in conversatio...  "
            ],
            "text/html": [
              "\n",
              "  <div id=\"df-6a51ed3d-b5bc-49c7-bdcc-3dd34aeb2f3b\" class=\"colab-df-container\">\n",
              "    <div>\n",
              "<style scoped>\n",
              "    .dataframe tbody tr th:only-of-type {\n",
              "        vertical-align: middle;\n",
              "    }\n",
              "\n",
              "    .dataframe tbody tr th {\n",
              "        vertical-align: top;\n",
              "    }\n",
              "\n",
              "    .dataframe thead th {\n",
              "        text-align: right;\n",
              "    }\n",
              "</style>\n",
              "<table border=\"1\" class=\"dataframe\">\n",
              "  <thead>\n",
              "    <tr style=\"text-align: right;\">\n",
              "      <th></th>\n",
              "      <th>speech</th>\n",
              "      <th>text</th>\n",
              "      <th>token</th>\n",
              "    </tr>\n",
              "  </thead>\n",
              "  <tbody>\n",
              "    <tr>\n",
              "      <th>0</th>\n",
              "      <td></td>\n",
              "      <td>inclusive capitalism conference in conversatio...</td>\n",
              "      <td>inclusive capitalism conference in conversatio...</td>\n",
              "    </tr>\n",
              "  </tbody>\n",
              "</table>\n",
              "</div>\n",
              "    <div class=\"colab-df-buttons\">\n",
              "\n",
              "  <div class=\"colab-df-container\">\n",
              "    <button class=\"colab-df-convert\" onclick=\"convertToInteractive('df-6a51ed3d-b5bc-49c7-bdcc-3dd34aeb2f3b')\"\n",
              "            title=\"Convert this dataframe to an interactive table.\"\n",
              "            style=\"display:none;\">\n",
              "\n",
              "  <svg xmlns=\"http://www.w3.org/2000/svg\" height=\"24px\" viewBox=\"0 -960 960 960\">\n",
              "    <path d=\"M120-120v-720h720v720H120Zm60-500h600v-160H180v160Zm220 220h160v-160H400v160Zm0 220h160v-160H400v160ZM180-400h160v-160H180v160Zm440 0h160v-160H620v160ZM180-180h160v-160H180v160Zm440 0h160v-160H620v160Z\"/>\n",
              "  </svg>\n",
              "    </button>\n",
              "\n",
              "  <style>\n",
              "    .colab-df-container {\n",
              "      display:flex;\n",
              "      gap: 12px;\n",
              "    }\n",
              "\n",
              "    .colab-df-convert {\n",
              "      background-color: #E8F0FE;\n",
              "      border: none;\n",
              "      border-radius: 50%;\n",
              "      cursor: pointer;\n",
              "      display: none;\n",
              "      fill: #1967D2;\n",
              "      height: 32px;\n",
              "      padding: 0 0 0 0;\n",
              "      width: 32px;\n",
              "    }\n",
              "\n",
              "    .colab-df-convert:hover {\n",
              "      background-color: #E2EBFA;\n",
              "      box-shadow: 0px 1px 2px rgba(60, 64, 67, 0.3), 0px 1px 3px 1px rgba(60, 64, 67, 0.15);\n",
              "      fill: #174EA6;\n",
              "    }\n",
              "\n",
              "    .colab-df-buttons div {\n",
              "      margin-bottom: 4px;\n",
              "    }\n",
              "\n",
              "    [theme=dark] .colab-df-convert {\n",
              "      background-color: #3B4455;\n",
              "      fill: #D2E3FC;\n",
              "    }\n",
              "\n",
              "    [theme=dark] .colab-df-convert:hover {\n",
              "      background-color: #434B5C;\n",
              "      box-shadow: 0px 1px 3px 1px rgba(0, 0, 0, 0.15);\n",
              "      filter: drop-shadow(0px 1px 2px rgba(0, 0, 0, 0.3));\n",
              "      fill: #FFFFFF;\n",
              "    }\n",
              "  </style>\n",
              "\n",
              "    <script>\n",
              "      const buttonEl =\n",
              "        document.querySelector('#df-6a51ed3d-b5bc-49c7-bdcc-3dd34aeb2f3b button.colab-df-convert');\n",
              "      buttonEl.style.display =\n",
              "        google.colab.kernel.accessAllowed ? 'block' : 'none';\n",
              "\n",
              "      async function convertToInteractive(key) {\n",
              "        const element = document.querySelector('#df-6a51ed3d-b5bc-49c7-bdcc-3dd34aeb2f3b');\n",
              "        const dataTable =\n",
              "          await google.colab.kernel.invokeFunction('convertToInteractive',\n",
              "                                                    [key], {});\n",
              "        if (!dataTable) return;\n",
              "\n",
              "        const docLinkHtml = 'Like what you see? Visit the ' +\n",
              "          '<a target=\"_blank\" href=https://colab.research.google.com/notebooks/data_table.ipynb>data table notebook</a>'\n",
              "          + ' to learn more about interactive tables.';\n",
              "        element.innerHTML = '';\n",
              "        dataTable['output_type'] = 'display_data';\n",
              "        await google.colab.output.renderOutput(dataTable, element);\n",
              "        const docLink = document.createElement('div');\n",
              "        docLink.innerHTML = docLinkHtml;\n",
              "        element.appendChild(docLink);\n",
              "      }\n",
              "    </script>\n",
              "  </div>\n",
              "\n",
              "\n",
              "  <div id=\"id_d5e28ef5-b0b3-43a4-9e7c-88b9bf350a8c\">\n",
              "    <style>\n",
              "      .colab-df-generate {\n",
              "        background-color: #E8F0FE;\n",
              "        border: none;\n",
              "        border-radius: 50%;\n",
              "        cursor: pointer;\n",
              "        display: none;\n",
              "        fill: #1967D2;\n",
              "        height: 32px;\n",
              "        padding: 0 0 0 0;\n",
              "        width: 32px;\n",
              "      }\n",
              "\n",
              "      .colab-df-generate:hover {\n",
              "        background-color: #E2EBFA;\n",
              "        box-shadow: 0px 1px 2px rgba(60, 64, 67, 0.3), 0px 1px 3px 1px rgba(60, 64, 67, 0.15);\n",
              "        fill: #174EA6;\n",
              "      }\n",
              "\n",
              "      [theme=dark] .colab-df-generate {\n",
              "        background-color: #3B4455;\n",
              "        fill: #D2E3FC;\n",
              "      }\n",
              "\n",
              "      [theme=dark] .colab-df-generate:hover {\n",
              "        background-color: #434B5C;\n",
              "        box-shadow: 0px 1px 3px 1px rgba(0, 0, 0, 0.15);\n",
              "        filter: drop-shadow(0px 1px 2px rgba(0, 0, 0, 0.3));\n",
              "        fill: #FFFFFF;\n",
              "      }\n",
              "    </style>\n",
              "    <button class=\"colab-df-generate\" onclick=\"generateWithVariable('speeches')\"\n",
              "            title=\"Generate code using this dataframe.\"\n",
              "            style=\"display:none;\">\n",
              "\n",
              "  <svg xmlns=\"http://www.w3.org/2000/svg\" height=\"24px\"viewBox=\"0 0 24 24\"\n",
              "       width=\"24px\">\n",
              "    <path d=\"M7,19H8.4L18.45,9,17,7.55,7,17.6ZM5,21V16.75L18.45,3.32a2,2,0,0,1,2.83,0l1.4,1.43a1.91,1.91,0,0,1,.58,1.4,1.91,1.91,0,0,1-.58,1.4L9.25,21ZM18.45,9,17,7.55Zm-12,3A5.31,5.31,0,0,0,4.9,8.1,5.31,5.31,0,0,0,1,6.5,5.31,5.31,0,0,0,4.9,4.9,5.31,5.31,0,0,0,6.5,1,5.31,5.31,0,0,0,8.1,4.9,5.31,5.31,0,0,0,12,6.5,5.46,5.46,0,0,0,6.5,12Z\"/>\n",
              "  </svg>\n",
              "    </button>\n",
              "    <script>\n",
              "      (() => {\n",
              "      const buttonEl =\n",
              "        document.querySelector('#id_d5e28ef5-b0b3-43a4-9e7c-88b9bf350a8c button.colab-df-generate');\n",
              "      buttonEl.style.display =\n",
              "        google.colab.kernel.accessAllowed ? 'block' : 'none';\n",
              "\n",
              "      buttonEl.onclick = () => {\n",
              "        google.colab.notebook.generateWithVariable('speeches');\n",
              "      }\n",
              "      })();\n",
              "    </script>\n",
              "  </div>\n",
              "\n",
              "    </div>\n",
              "  </div>\n"
            ],
            "application/vnd.google.colaboratory.intrinsic+json": {
              "type": "dataframe",
              "variable_name": "speeches",
              "summary": "{\n  \"name\": \"speeches\",\n  \"rows\": 1,\n  \"fields\": [\n    {\n      \"column\": \"speech\",\n      \"properties\": {\n        \"dtype\": \"object\",\n        \"num_unique_values\": 1,\n        \"samples\": [\n          \"\"\n        ],\n        \"semantic_type\": \"\",\n        \"description\": \"\"\n      }\n    },\n    {\n      \"column\": \"text\",\n      \"properties\": {\n        \"dtype\": \"string\",\n        \"num_unique_values\": 1,\n        \"samples\": [\n          \"inclusive capitalism conference in conversation with governor mark carney bank of england our use of cookies we use necessary cookies to make our site work for example to manage your session wed also like to use some nonessential cookies including thirdparty cookies to help us improve the site by clicking accept recommended settings on this banner you accept our use of optional cookies necessary cookies analytics cookies yes yes accept recommended cookies yes no proceed with necessary cookies only necessary cookies necessary cookies enable core functionality on our website such as security network management and accessibility you may disable these by changing your browser settings but this may affect how the website functions analytics cookies we use analytics cookies so we can keep track of the number of visitors to various parts of the site and understand how our website is used for more information on how these cookies work please see our cookie policy skip to main content main menu close main menu topics open topics sub menu back to main menu banknotes open banknotes sub menu back to main menu choosing banknote characters counterfeit banknotes current banknotes damaged and contaminated banknotes exchanging old banknotes note circulation scheme advice for retailers and businesses scottish and northern ireland banknotes using images of banknotes wholesale cash distribution in the future withdrawn banknotes careers open careers sub menu back to main menu application tips career returner programme 2025 future talent our locations research careers we value diversity and inclusion what we offer you why you should join us climate change digital pound education open education sub menu back to main menu competitions education resources research support programme request a speaker for your school financial stability open financial stability sub menu back to main menu digital securities sandbox dss financial market infrastructure supervision operational resilience of the financial sector resolution trade repository tr data collections gold markets open markets sub menu back to main menu bank of england market operations guide eligible collateral fair and effective markets foreign currency reserves greening our corporate bond purchase scheme cbps market intelligence money markets committee and uk money markets code settlement and collateral management sonia interest rate benchmark the sterling bond portfolio transition from libor to riskfree rates monetary policy open monetary policy sub menu back to main menu inflation and the 2 target quantitative easing interest rates and bank rate payment and settlement open payment and settlement sub menu back to main menu banking services chaps crossborder payments payment and settlement statistics rtgs renewal programme prudential regulation open prudential regulation sub menu back to main menu authorisations new bank startup unit new insurer startup unit policy prudential and resolution policy index regulatory reporting our secondary objectives supervision the bank of englands approach to enforcement research open research sub menu back to main menu bank of england agenda for research fintech the future of finance our response research visitor programme research funding and fellowships researchers statistics open statistics sub menu back to main menu banknote statistics bankstats tables data collection exchange rates gold statistics gross domestic product realtime database optionimplied probability density functions research datasets statistics requested by users yield curves about open about sub menu back to main menu get involved open get involved sub menu back to main menu citizens forum community forums partners insights forum youth voice governance and funding open governance and funding sub menu back to main menu staff codes and policies history our people open our people sub menu back to main menu agents chief cashiers court of directors executive directors financial policy committee financial market infrastructure committee governors monetary policy committee prudential regulation committee news and publications open news and publications sub menu back to main menu events news and minutes prudential regulation publications publications speeches statistical releases upcoming museum contact search nothing searched for please enter a search term home inclusive capitalism conference in conversation with governor mark carney inclusive capitalism conference in conversation with governor mark carney given at mansion house london published on 26 june 2015 governor mark carney participates in an onstage conversation with the economists editorinchief zanny mintonbeddoes at the conference on inclusive capitalism the pathway to action the governor discusses how we can create core financial markets that work fairly and effectively to deliver strong sustainable and balanced growth play creating fair and effective markets video mark carney former governor bank of england from 2013 to 2020 convert this page to pdf other speeches speech catherine l mann 14 november 2024 the great moderation 20 years on and beyond the great moderation 20 years on and beyond speech by catherine l mann speech sarah breeden 31 october 2024 engaging with the machine ai and financial engaging with the machine ai and financial stability speech by sarah breeden speech andrew bailey 26 october 2024 the future of money and payments speech the future of money and payments speech by andrew bailey speech andrew bailey 24 october 2024 michael d gill memorial society lecture michael d gill memorial society lecture andrew bailey view more other speeches back to top follow us follow us follow us on twitter connect with us on linkedin add us on facebook follow us on instagram watch us on youtube find us on flickr museum like the bank of england museum on facebook follow the bank of england museum on twitter follow the bank of england museum on instagram browse topics browse topics banknotes careers digital pound education financial stability gold markets monetary policy payment and settlement prudential regulation research statistics useful links useful links about us archive contact us explainers faqs freedom of information glossary museum subscribe to emails bank of england threadneedle street london ec2r 8ah switchboard 44020 3461 4444 enquiries 44020 3461 4878 bank of england museum bartholomew lane london ec2r 8ah accessibility statement cookies cymraeg legal privacy sitemap 2024 bank of england\"\n        ],\n        \"semantic_type\": \"\",\n        \"description\": \"\"\n      }\n    },\n    {\n      \"column\": \"token\",\n      \"properties\": {\n        \"dtype\": \"string\",\n        \"num_unique_values\": 1,\n        \"samples\": [\n          \"inclusive capitalism conference in conversation with governor mark carney bank of england our use of cookies we use necessary cookies to make our site work for example to manage your session wed also like to use some nonessential cookies including thirdparty cookies to help us improve the site by clicking accept recommended settings on this banner you accept our use of optional cookies necessary cookies analytics cookies yes yes accept recommended cookies yes no proceed with necessary cookies only necessary cookies necessary cookies enable core functionality on our website such as security network management and accessibility you may disable these by changing your browser settings but this may affect how the website functions analytics cookies we use analytics cookies so we can keep track of the number of visitors to various parts of the site and understand how our website is used for more information on how these cookies work please see our cookie policy skip to main content main menu close main menu topics open topics sub menu back to main menu banknotes open banknotes sub menu back to main menu choosing banknote characters counterfeit banknotes current banknotes damaged and contaminated banknotes exchanging old banknotes note circulation scheme advice for retailers and businesses scottish and northern ireland banknotes using images of banknotes wholesale cash distribution in the future withdrawn banknotes careers open careers sub menu back to main menu application tips career returner programme 2025 future talent our locations research careers we value diversity and inclusion what we offer you why you should join us climate change digital pound education open education sub menu back to main menu competitions education resources research support programme request a speaker for your school financial stability open financial stability sub menu back to main menu digital securities sandbox dss financial market infrastructure supervision operational resilience of the financial sector resolution trade repository tr data collections gold markets open markets sub menu back to main menu bank of england market operations guide eligible collateral fair and effective markets foreign currency reserves greening our corporate bond purchase scheme cbps market intelligence money markets committee and uk money markets code settlement and collateral management sonia interest rate benchmark the sterling bond portfolio transition from libor to riskfree rates monetary policy open monetary policy sub menu back to main menu inflation and the 2 target quantitative easing interest rates and bank rate payment and settlement open payment and settlement sub menu back to main menu banking services chaps crossborder payments payment and settlement statistics rtgs renewal programme prudential regulation open prudential regulation sub menu back to main menu authorisations new bank startup unit new insurer startup unit policy prudential and resolution policy index regulatory reporting our secondary objectives supervision the bank of englands approach to enforcement research open research sub menu back to main menu bank of england agenda for research fintech the future of finance our response research visitor programme research funding and fellowships researchers statistics open statistics sub menu back to main menu banknote statistics bankstats tables data collection exchange rates gold statistics gross domestic product realtime database optionimplied probability density functions research datasets statistics requested by users yield curves about open about sub menu back to main menu get involved open get involved sub menu back to main menu citizens forum community forums partners insights forum youth voice governance and funding open governance and funding sub menu back to main menu staff codes and policies history our people open our people sub menu back to main menu agents chief cashiers court of directors executive directors financial policy committee financial market infrastructure committee governors monetary policy committee prudential regulation committee news and publications open news and publications sub menu back to main menu events news and minutes prudential regulation publications publications speeches statistical releases upcoming museum contact search nothing searched for please enter a search term home inclusive capitalism conference in conversation with governor mark carney inclusive capitalism conference in conversation with governor mark carney given at mansion house london published on 26 june 2015 governor mark carney participates in an onstage conversation with the economists editorinchief zanny mintonbeddoes at the conference on inclusive capitalism the pathway to action the governor discusses how we can create core financial markets that work fairly and effectively to deliver strong sustainable and balanced growth play creating fair and effective markets video mark carney former governor bank of england from 2013 to 2020 convert this page to pdf other speeches speech catherine l mann 14 november 2024 the great moderation 20 years on and beyond the great moderation 20 years on and beyond speech by catherine l mann speech sarah breeden 31 october 2024 engaging with the machine ai and financial engaging with the machine ai and financial stability speech by sarah breeden speech andrew bailey 26 october 2024 the future of money and payments speech the future of money and payments speech by andrew bailey speech andrew bailey 24 october 2024 michael d gill memorial society lecture michael d gill memorial society lecture andrew bailey view more other speeches back to top follow us follow us follow us on twitter connect with us on linkedin add us on facebook follow us on instagram watch us on youtube find us on flickr museum like the bank of england museum on facebook follow the bank of england museum on twitter follow the bank of england museum on instagram browse topics browse topics banknotes careers digital pound education financial stability gold markets monetary policy payment and settlement prudential regulation research statistics useful links useful links about us archive contact us explainers faqs freedom of information glossary museum subscribe to emails bank of england threadneedle street london ec2r 8ah switchboard 44020 3461 4444 enquiries 44020 3461 4878 bank of england museum bartholomew lane london ec2r 8ah accessibility statement cookies cymraeg legal privacy sitemap 2024 bank of england\"\n        ],\n        \"semantic_type\": \"\",\n        \"description\": \"\"\n      }\n    }\n  ]\n}"
            }
          },
          "metadata": {},
          "execution_count": 36
        }
      ]
    }
  ]
}