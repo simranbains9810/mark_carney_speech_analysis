{
  "nbformat": 4,
  "nbformat_minor": 0,
  "metadata": {
    "colab": {
      "provenance": [],
      "authorship_tag": "ABX9TyNxaDUR1I1lJL2TlOc9Fo7e",
      "include_colab_link": true
    },
    "kernelspec": {
      "name": "python3",
      "display_name": "Python 3"
    },
    "language_info": {
      "name": "python"
    }
  },
  "cells": [
    {
      "cell_type": "markdown",
      "metadata": {
        "id": "view-in-github",
        "colab_type": "text"
      },
      "source": [
        "<a href=\"https://colab.research.google.com/github/simranbains9810/mark_carney_speech_analysis/blob/main/speech_analysis.ipynb\" target=\"_parent\"><img src=\"https://colab.research.google.com/assets/colab-badge.svg\" alt=\"Open In Colab\"/></a>"
      ]
    },
    {
      "cell_type": "markdown",
      "source": [
        "# **Key risk identification from Mark Carney speeches**"
      ],
      "metadata": {
        "id": "eT-aurtorkh2"
      }
    },
    {
      "cell_type": "markdown",
      "source": [
        "Installing and updating the text mining library pdfplumber into the local Colab environment"
      ],
      "metadata": {
        "id": "5wcrcwosfUQI"
      }
    },
    {
      "cell_type": "code",
      "source": [
        "!pip install --upgrade pdfplumber"
      ],
      "metadata": {
        "colab": {
          "base_uri": "https://localhost:8080/"
        },
        "id": "tCg0tcTzre09",
        "outputId": "1ffc0b6f-19a8-4cba-a652-9d4c95419eab"
      },
      "execution_count": 1,
      "outputs": [
        {
          "output_type": "stream",
          "name": "stdout",
          "text": [
            "Requirement already satisfied: pdfplumber in /usr/local/lib/python3.10/dist-packages (0.11.4)\n",
            "Requirement already satisfied: pdfminer.six==20231228 in /usr/local/lib/python3.10/dist-packages (from pdfplumber) (20231228)\n",
            "Requirement already satisfied: Pillow>=9.1 in /usr/local/lib/python3.10/dist-packages (from pdfplumber) (10.4.0)\n",
            "Requirement already satisfied: pypdfium2>=4.18.0 in /usr/local/lib/python3.10/dist-packages (from pdfplumber) (4.30.0)\n",
            "Requirement already satisfied: charset-normalizer>=2.0.0 in /usr/local/lib/python3.10/dist-packages (from pdfminer.six==20231228->pdfplumber) (3.4.0)\n",
            "Requirement already satisfied: cryptography>=36.0.0 in /usr/local/lib/python3.10/dist-packages (from pdfminer.six==20231228->pdfplumber) (43.0.3)\n",
            "Requirement already satisfied: cffi>=1.12 in /usr/local/lib/python3.10/dist-packages (from cryptography>=36.0.0->pdfminer.six==20231228->pdfplumber) (1.17.1)\n",
            "Requirement already satisfied: pycparser in /usr/local/lib/python3.10/dist-packages (from cffi>=1.12->cryptography>=36.0.0->pdfminer.six==20231228->pdfplumber) (2.22)\n"
          ]
        }
      ]
    },
    {
      "cell_type": "markdown",
      "source": [
        "# **Web scraping, text extraction and text pre-processing Mark Carney speeches**"
      ],
      "metadata": {
        "id": "HysLV0ICf1I5"
      }
    },
    {
      "cell_type": "markdown",
      "source": [
        "This section outlies the comprehensive text mining operations executed to analyse Mark Carney's speeches. These operations encompass several stages, including scripts for web scraping to gather speeches from the Bank of England's website, text extraction, and conversion to plain text format. Further preprocessing steps involve word tokenization and the removal of stop words to prepare the data for analysis. The speeches were specifically sourced from the Bank of England's website by applying filters to isolate those given by Mark Carney."
      ],
      "metadata": {
        "id": "pbsQ_QvXhRQC"
      }
    },
    {
      "cell_type": "code",
      "source": [
        "import os\n",
        "import requests\n",
        "import pdfplumber\n",
        "import pandas as pd\n",
        "import re\n",
        "import string\n",
        "import unicodedata\n",
        "import nltk\n",
        "from nltk.tokenize import word_tokenize\n",
        "from urllib.request import urlopen\n",
        "from bs4 import BeautifulSoup\n",
        "\n",
        "from urllib.request import Request, urlopen"
      ],
      "metadata": {
        "id": "xxfrKtjAYp-U"
      },
      "execution_count": 2,
      "outputs": []
    },
    {
      "cell_type": "code",
      "source": [
        "# Define the directory path\n",
        "directory_path = \"/content/speeches\"\n",
        "os.mkdir(directory_path)"
      ],
      "metadata": {
        "id": "aP5NwZWKil78",
        "colab": {
          "base_uri": "https://localhost:8080/",
          "height": 180
        },
        "outputId": "1071d324-6708-4eec-f963-708a207c1eea"
      },
      "execution_count": 3,
      "outputs": [
        {
          "output_type": "error",
          "ename": "FileExistsError",
          "evalue": "[Errno 17] File exists: '/content/speeches'",
          "traceback": [
            "\u001b[0;31m---------------------------------------------------------------------------\u001b[0m",
            "\u001b[0;31mFileExistsError\u001b[0m                           Traceback (most recent call last)",
            "\u001b[0;32m<ipython-input-3-7844b1235d0a>\u001b[0m in \u001b[0;36m<cell line: 3>\u001b[0;34m()\u001b[0m\n\u001b[1;32m      1\u001b[0m \u001b[0;31m# Define the directory path\u001b[0m\u001b[0;34m\u001b[0m\u001b[0;34m\u001b[0m\u001b[0m\n\u001b[1;32m      2\u001b[0m \u001b[0mdirectory_path\u001b[0m \u001b[0;34m=\u001b[0m \u001b[0;34m\"/content/speeches\"\u001b[0m\u001b[0;34m\u001b[0m\u001b[0;34m\u001b[0m\u001b[0m\n\u001b[0;32m----> 3\u001b[0;31m \u001b[0mos\u001b[0m\u001b[0;34m.\u001b[0m\u001b[0mmkdir\u001b[0m\u001b[0;34m(\u001b[0m\u001b[0mdirectory_path\u001b[0m\u001b[0;34m)\u001b[0m\u001b[0;34m\u001b[0m\u001b[0;34m\u001b[0m\u001b[0m\n\u001b[0m",
            "\u001b[0;31mFileExistsError\u001b[0m: [Errno 17] File exists: '/content/speeches'"
          ]
        }
      ]
    },
    {
      "cell_type": "code",
      "source": [
        "%cd speeches"
      ],
      "metadata": {
        "colab": {
          "base_uri": "https://localhost:8080/"
        },
        "id": "xYs5RfY5FTyo",
        "outputId": "3b5cca95-1192-48a1-a80c-0fa9c8d1ff0e"
      },
      "execution_count": 4,
      "outputs": [
        {
          "output_type": "stream",
          "name": "stdout",
          "text": [
            "/content/speeches\n"
          ]
        }
      ]
    },
    {
      "cell_type": "code",
      "source": [
        "urls = [\"https://www.bankofengland.co.uk/-/media/boe/files/speech/2020/the-grand-unifying-theory-and-practice-of-macroprudential-policy-speech-by-mark-carney.pdf\",\n",
        "        \"https://www.bankofengland.co.uk/-/media/boe/files/speech/2020/the-road-to-glasgow-speech-by-mark-carney.pdf\",\n",
        "        \"https://www.bankofengland.co.uk/speech/2020/mark-carney-opening-remarks-at-the-future-of-inflation-targeting-conference\",\n",
        "        \"https://www.bankofengland.co.uk/-/media/boe/files/speech/2019/remarks-by-mark-carney-at-the-ecb-farewell-board-dinner-for-benoit-coeure.pdf\",\n",
        "        \"https://www.bankofengland.co.uk/-/media/boe/files/speech/2019/remarks-by-mark-carney-at-the-us-climate-action-centre-madrid.pdf\",\n",
        "        \"https://www.bankofengland.co.uk/-/media/boe/files/speech/2019/addressing-the-growing-challenges-in-the-international-monetary-and-financial-system-slides.pdf\",\n",
        "        \"https://www.bankofengland.co.uk/-/media/boe/files/speech/2019/light-is-therefore-colour-governor-remarks-at-the-new-20-launch.pdf\",\n",
        "        \"https://www.bankofengland.co.uk/-/media/boe/files/speech/2019/tcfd-strengthening-the-foundations-of-sustainable-finance-speech-by-mark-carney.pdf\",\n",
        "        \"https://www.bankofengland.co.uk/-/media/boe/files/speech/2019/remarks-given-during-the-un-secretary-generals-climate-actions-summit-2019-mark-carney.pdf\",\n",
        "        \"https://www.bankofengland.co.uk/-/media/boe/files/speech/2019/the-growing-challenges-for-monetary-policy-speech-by-mark-carney.pdf\",\n",
        "        \"https://www.bankofengland.co.uk/speech/2019/50-note-character-selection-announcement\",\n",
        "        \"https://www.bankofengland.co.uk/-/media/boe/files/speech/2019/sea-change-speech-by-mark-carney.pdf\",\n",
        "        \"https://www.bankofengland.co.uk/-/media/boe/files/speech/2019/enable-empower-ensure-a-new-finance-for-the-new-economy-speech-by-mark-carney.pdf\",\n",
        "        \"https://www.bankofengland.co.uk/-/media/boe/files/speech/2019/remarks-to-open-policy-panel-by-mark-carney.pdf\",\n",
        "        \"https://www.bankofengland.co.uk/-/media/boe/files/speech/2019/finance-by-all-for-all-speech-by-mark-carney.pdf\",\n",
        "        \"https://www.bankofengland.co.uk/-/media/boe/files/speech/2019/pull-push-pipes-sustainable-capital-flows-for-a-new-world-order-speech-by-mark-carney.pdf\",\n",
        "        \"https://www.bankofengland.co.uk/-/media/boe/files/speech/2019/a-platform-for-innovation-remarks-by-mark-carney.pdf\",\n",
        "        \"https://www.bankofengland.co.uk/-/media/boe/files/speech/2019/investing-in-ethnicity-and-race-speech-by-mark-carney.pdf\",\n",
        "        \"https://www.bankofengland.co.uk/speech/2019/mark-carney-speech-at-european-commission-high-level-conference-brussels\",\n",
        "        \"https://www.bankofengland.co.uk/-/media/boe/files/speech/2019/the-global-outlook-speech-by-mark-carney.pdf\",\n",
        "        \"https://www.bankofengland.co.uk/-/media/boe/files/speech/2018/remarks-at-the-accounting-for-sustainability-summit-2018.pdf\",\n",
        "        \"https://www.bankofengland.co.uk/-/media/boe/files/speech/2018/50-character-selection-and-future-forum-launch.pdf\",\n",
        "        \"https://www.bankofengland.co.uk/-/media/boe/files/speech/2018/ai-and-the-global-economy-mark-carney-slides.pdf\",\n",
        "        \"https://www.bankofengland.co.uk/-/media/boe/files/speech/2018/true-finance-ten-years-after-the-financial-crisis-speech-by-mark-carney.pdf\",\n",
        "        \"https://www.bankofengland.co.uk/-/media/boe/files/speech/2018/the-future-of-work-speech-by-mark-carney.pdf\",\n",
        "        \"https://www.bankofengland.co.uk/-/media/boe/files/speech/2018/from-protectionism-to-prosperity-speech-by-mark-carney.pdf\",\n",
        "        \"https://www.bankofengland.co.uk/-/media/boe/files/speech/2018/new-economy-new-finance-new-bank-speech-by-mark-carney.pdf\",\n",
        "        \"https://www.bankofengland.co.uk/-/media/boe/files/speech/2018/guidance-contingencies-and-brexit-speech-by-mark-carney.pdf\",\n",
        "        \"https://www.bankofengland.co.uk/-/media/boe/files/speech/2018/staying-connected-speech-by-mark-carney.pdf\",\n",
        "        \"https://www.bankofengland.co.uk/-/media/boe/files/speech/2018/opening-remarks-by-mark-carney-at-the-econome-launch-event.pdf\",\n",
        "        \"https://www.bankofengland.co.uk/speech/2018/mark-carney-speech-at-the-public-policy-forum-toronto\",\n",
        "        \"https://www.bankofengland.co.uk/-/media/boe/files/speech/2018/a-transition-in-thinking-and-action-speech-by-mark-carney.pdf\",\n",
        "        \"https://www.bankofengland.co.uk/-/media/boe/files/speech/2018/the-future-of-money-speech-by-mark-carney.pdf\",\n",
        "        \"https://www.bankofengland.co.uk/-/media/boe/files/speech/2018/reflections-on-leadership-in-a-disruptive-age-speech-by-mark-carney.pdf\",\n",
        "        \"https://www.bankofengland.co.uk/-/media/boe/files/speech/2017/turning-back-the-tide-speech-by-mark-carney.pdf\",\n",
        "        \"https://www.bankofengland.co.uk/-/media/boe/files/speech/2017/opening-remarks-at-future-forum-2017.pdf\",\n",
        "        \"https://www.bankofengland.co.uk/-/media/boe/files/speech/2017/opening-remarks-at-the-boe-independence-20-years-on-conference.pdf\",\n",
        "        \"https://www.bankofengland.co.uk/-/media/boe/files/speech/2017/de-globalisation-and-inflation.pdf\",\n",
        "        \"https://www.bankofengland.co.uk/-/media/boe/files/speech/2017/policy-panel-investment-and-growth-in-advanced-economies.pdf\",\n",
        "        \"https://www.bankofengland.co.uk/-/media/boe/files/speech/2017/a-fine-balance.pdf\",\n",
        "        \"https://www.bankofengland.co.uk/-/media/boe/files/speech/2017/what-a-difference-a-decade-makes.pdf\",\n",
        "        \"https://www.bankofengland.co.uk/-/media/boe/files/speech/2017/building-the-infrastructure-to-realise-fintechs-promise.pdf\",\n",
        "        \"https://www.bankofengland.co.uk/-/media/boe/files/speech/2017/the-high-road-to-a-responsible-open-financial-system.pdf\",\n",
        "        \"https://www.bankofengland.co.uk/-/media/boe/files/speech/2017/banking-standards-board-worthy-of-trust-law-ethics-and-culture-in-banking.pdf\",\n",
        "        \"https://www.bankofengland.co.uk/-/media/boe/files/speech/2017/reflecting-diversity-choosing-the-inclusion.pdf\",\n",
        "        \"https://www.bankofengland.co.uk/-/media/boe/files/speech/2017/the-promise-of-fintech-something-new-under-the-sun.pdf\",\n",
        "        \"https://www.bankofengland.co.uk/-/media/boe/files/speech/2017/lambda.pdf\",\n",
        "        \"https://www.bankofengland.co.uk/-/media/boe/files/speech/2016/remarks-on-the-launch-of-the-recommendations-of-the-task-force-on-climate-related.pdf\",\n",
        "        \"https://www.bankofengland.co.uk/-/media/boe/files/speech/2016/the-spectre-of-monetarism.pdf\",\n",
        "        \"https://www.bankofengland.co.uk/-/media/boe/files/speech/2016/resolving-the-climate-paradox.pdf\",\n",
        "        \"https://www.bankofengland.co.uk/-/media/boe/files/speech/2016/uncertainty-the-economy-and-policy.pdf\",\n",
        "        \"https://www.bankofengland.co.uk/-/media/boe/files/speech/2016/enabling-the-fintech-transformation-revolution-restoration-or-reformation.pdf\",\n",
        "        \"https://www.bankofengland.co.uk/-/media/boe/files/speech/2016/the-sustainable-development-goal-imperative.pdf\",\n",
        "        \"https://www.bankofengland.co.uk/-/media/boe/files/speech/2016/opening-remarks-by-mark-carney-to-the-empowering-productivity-harnessing-the-talents.pdf\",\n",
        "        \"https://www.bankofengland.co.uk/-/media/boe/files/speech/2016/redeeming-an-unforgiving-world.pdf\",\n",
        "        \"https://www.bankofengland.co.uk/-/media/boe/files/speech/2016/the-turn-of-the-year.pdf\",\n",
        "        \"https://www.bankofengland.co.uk/-/media/boe/files/speech/2015/opening-statement-at-the-european-parliaments-econ-committee.pdf\",\n",
        "        \"https://www.bankofengland.co.uk/-/media/boe/files/speech/2015/closing-remarks-to-the-boe-open-forum.pdf\",\n",
        "        \"https://www.bankofengland.co.uk/-/media/boe/files/speech/2015/introduction-to-the-open-forum.pdf\",\n",
        "        \"https://www.bankofengland.co.uk/-/media/boe/files/speech/2015/the-european-union-monetary-and-financial-stability-and-the-boe.pdf\",\n",
        "        \"https://www.bankofengland.co.uk/-/media/boe/files/speech/2015/breaking-the-tragedy-of-the-horizon-climate-change-and-financial-stability.pdf\",\n",
        "        \"https://www.bankofengland.co.uk/-/media/boe/files/speech/2015/three-truths-for-finance.pdf\",\n",
        "        \"https://www.bankofengland.co.uk/-/media/boe/files/speech/2015/inflation-in-a-globalised-world.pdf\",\n",
        "        \"https://www.bankofengland.co.uk/-/media/boe/files/speech/2015/from-lincoln-to-lothbury-magna-carta-and-the-boe.pdf\",\n",
        "        #\"https://www.bankofengland.co.uk/speech/2015/inclusive-capitalism-conference-in-conversation-with-governor-mark-carney\",\n",
        "        \"https://www.bankofengland.co.uk/-/media/boe/files/speech/2015/building-real-markets-for-the-good-of-the-people.pdf\",\n",
        "        \"https://www.bankofengland.co.uk/-/media/boe/files/speech/2015/writing-the-path-back-to-target.pdf\",\n",
        "        \"https://www.bankofengland.co.uk/-/media/boe/files/speech/2015/one-bank-research-agenda-launch-conference.pdf\",\n",
        "        \"https://www.bankofengland.co.uk/-/media/boe/files/speech/2015/fortune-favours-the-bold.pdf\",\n",
        "        \"https://www.bankofengland.co.uk/-/media/boe/files/speech/2014/the-future-of-financial-reform.pdf\",\n",
        "        \"https://www.bankofengland.co.uk/-/media/boe/files/speech/2014/regulatory-work-underway-and-lessons-learned.pdf\",\n",
        "        \"https://www.bankofengland.co.uk/-/media/boe/files/speech/2014/putting-the-right-ideas-into-practice.pdf\",\n",
        "        \"https://www.bankofengland.co.uk/-/media/boe/files/speech/2014/mark-carney-speech-at-the-trades-union-congress.pdf\",\n",
        "        \"https://www.bankofengland.co.uk/-/media/boe/files/speech/2014/winning-the-economic-marathon.pdf\",\n",
        "        \"https://www.bankofengland.co.uk/-/media/boe/files/speech/2014/mark-carney-speech-at-the-lord-mayors-banquet-for-bankers-and-merchants-of-the-city-of-london.pdf\",\n",
        "        \"https://www.bankofengland.co.uk/-/media/boe/files/speech/2014/inclusive-capitalism-creating-a-sense-of-the-systemic.pdf\",\n",
        "        \"https://www.bankofengland.co.uk/-/media/boe/files/speech/2014/one-mission-one-bank-promoting-the-good-of-the-people-of-the-uk.pdf\",\n",
        "        \"https://www.bankofengland.co.uk/-/media/boe/files/speech/2014/the-economics-of-currency-unions.pdf\",\n",
        "        \"https://www.bankofengland.co.uk/-/media/boe/files/speech/2014/remarks-given-by-mark-carney-at-davos-cbi-british-business-leaders-lunch.pdf\",\n",
        "        \"https://www.bankofengland.co.uk/-/media/boe/files/speech/2013/remarks-given-by-mark-carney-governor-regarding-polymer-notes-and-the-review-of-the-banknote-charact.pdf\",\n",
        "        \"https://www.bankofengland.co.uk/-/media/boe/files/speech/2013/the-spirit-of-the-season.pdf\",\n",
        "        \"https://www.bankofengland.co.uk/-/media/boe/files/speech/2013/the-uk-at-the-heart-of-a-renewed-globalisation.pdf\",\n",
        "        \"https://www.bankofengland.co.uk/-/media/boe/files/speech/2013/crossing-the-threshold-to-recovery.pdf\",\n",
        "        \"https://www.bankofengland.co.uk/-/media/boe/files/speech/2013/jane-austens-house-museum-remarks-by-mark-carney.pdf\"\n",
        "]"
      ],
      "metadata": {
        "id": "n237A4VVGCv0"
      },
      "execution_count": 5,
      "outputs": []
    },
    {
      "cell_type": "code",
      "source": [
        "# Scraping PDFs from URLs\n",
        "for url in urls:\n",
        "    response = requests.get(url)\n",
        "    if response.status_code == 200:\n",
        "        file_path = os.path.join(directory_path, os.path.basename(url))\n",
        "        with open(file_path, \"wb\") as f:\n",
        "            f.write(response.content)"
      ],
      "metadata": {
        "id": "LJfAi5F0YBHR"
      },
      "execution_count": 10,
      "outputs": []
    },
    {
      "cell_type": "markdown",
      "source": [
        "# **Text Extraction**"
      ],
      "metadata": {
        "id": "zHuvf5jpYWcz"
      }
    },
    {
      "cell_type": "code",
      "source": [
        "# Create a list of PDF file names and text file names\n",
        "pdf_list = os.listdir(directory_path)\n",
        "txt_list = [pdf[:-4] + \".txt\" for pdf in pdf_list]\n",
        "\n",
        "# Extracting text and saving output in dictionary\n",
        "for i in range(0, len(pdf_list)):\n",
        "    out = open(txt_list[i], \"wt\")  # open text output\n",
        "    with pdfplumber.open(os.fsdecode(pdf_list[i])) as pdf:\n",
        "        for pdf_page in pdf.pages:\n",
        "            page_text = pdf_page.extract_text()\n",
        "            out.write(page_text)\n",
        "        out.close()"
      ],
      "metadata": {
        "colab": {
          "base_uri": "https://localhost:8080/",
          "height": 216
        },
        "id": "0PJYNPzoYHfI",
        "outputId": "81d64182-2c33-4ff7-d59e-e2d5c8370703"
      },
      "execution_count": 11,
      "outputs": [
        {
          "output_type": "error",
          "ename": "FileNotFoundError",
          "evalue": "[Errno 2] No such file or directory: 'path_to_pdf_directory'",
          "traceback": [
            "\u001b[0;31m---------------------------------------------------------------------------\u001b[0m",
            "\u001b[0;31mFileNotFoundError\u001b[0m                         Traceback (most recent call last)",
            "\u001b[0;32m<ipython-input-11-e79c878e2e91>\u001b[0m in \u001b[0;36m<cell line: 2>\u001b[0;34m()\u001b[0m\n\u001b[1;32m      1\u001b[0m \u001b[0;31m# Create a list of PDF file names and text file names\u001b[0m\u001b[0;34m\u001b[0m\u001b[0;34m\u001b[0m\u001b[0m\n\u001b[0;32m----> 2\u001b[0;31m \u001b[0mpdf_list\u001b[0m \u001b[0;34m=\u001b[0m \u001b[0mos\u001b[0m\u001b[0;34m.\u001b[0m\u001b[0mlistdir\u001b[0m\u001b[0;34m(\u001b[0m\u001b[0mdirectory_path\u001b[0m\u001b[0;34m)\u001b[0m\u001b[0;34m\u001b[0m\u001b[0;34m\u001b[0m\u001b[0m\n\u001b[0m\u001b[1;32m      3\u001b[0m \u001b[0mtxt_list\u001b[0m \u001b[0;34m=\u001b[0m \u001b[0;34m[\u001b[0m\u001b[0mpdf\u001b[0m\u001b[0;34m[\u001b[0m\u001b[0;34m:\u001b[0m\u001b[0;34m-\u001b[0m\u001b[0;36m4\u001b[0m\u001b[0;34m]\u001b[0m \u001b[0;34m+\u001b[0m \u001b[0;34m\".txt\"\u001b[0m \u001b[0;32mfor\u001b[0m \u001b[0mpdf\u001b[0m \u001b[0;32min\u001b[0m \u001b[0mpdf_list\u001b[0m\u001b[0;34m]\u001b[0m\u001b[0;34m\u001b[0m\u001b[0;34m\u001b[0m\u001b[0m\n\u001b[1;32m      4\u001b[0m \u001b[0;34m\u001b[0m\u001b[0m\n\u001b[1;32m      5\u001b[0m \u001b[0;31m# Extracting text and saving output in dictionary\u001b[0m\u001b[0;34m\u001b[0m\u001b[0;34m\u001b[0m\u001b[0m\n",
            "\u001b[0;31mFileNotFoundError\u001b[0m: [Errno 2] No such file or directory: 'path_to_pdf_directory'"
          ]
        }
      ]
    },
    {
      "cell_type": "code",
      "source": [
        "# Create a list of speech titles without any suffix\n",
        "speech = [pdf[:-4] for pdf in pdf_list]\n",
        "\n",
        "# Read text files as CSV files into a dictionary\n",
        "speech_1 = {}\n",
        "\n",
        "for i in range(0, len(speech)):\n",
        "    speech_1[speech[i]] = pd.read_csv(\n",
        "        txt_list[i], delimiter = \"\\n\", names = [\"text\"]\n",
        "    )\n",
        "    # concatenate all rows into one row\n",
        "    speech_1[speech[i]][\"text\"] = speech_1[speech[i]][\"text\"].str.cat(sep = \" \")\n",
        "    # dataframe now redundant, replace it with one of the rows\n",
        "    speech_1[speech[i]] = speech_1[speech[i]][\"text\"][0]\n",
        "    # convert string to lowercases\n",
        "    speech_1[speech[i]] = speech_1[speech[i]].lower()\n",
        "    # translating unicode strings into normal characters\n",
        "    speech_1[speech[i]] = unicodedata.normalize(\"NFKD\", speech_1[speech[i]])\n",
        "    # remove punctuation symbols\n",
        "    speech_1[speech[i]] = speech_1[speech[i]].translate(\n",
        "        str.maketrans(\n",
        "            \"\", \"\",string.punctuation[:12] + string.punctuation[13:]\n",
        "        )\n",
        "    )\n",
        "    # remove excess whitespaces\n",
        "    speech_1[speech[i]] = re.sub(\" +\", \" \", speech_1[speech[i]])\n",
        "\n",
        "\n",
        "# Remove repeating strings\n",
        "    del_strings = [\n",
        "        \"all speeches are available online at\",\n",
        "        \"all speeches are available online\",\n",
        "        \"all speeches available online\",\n",
        "        \"speeches are available online at\",\n",
        "        \"speeches available online at\",\n",
        "        \"speeches available online\",\n",
        "        \"wwwbankofenglandcoukpublicationspagesspeechesdefaultaspx\",\n",
        "        \"wwwbankofenglandcoukpublicationsspeeches\",\n",
        "        \"wwwbankofenglandcouknewsspeeches\",\n",
        "        \"wwwbankofenglandcoukspeeches\",\n",
        "        \"boepressoffice\",\n",
        "        \"remarks by\",\n",
        "        \"speech given by\",\n",
        "        \"mark carney\",\n",
        "        \"the views are not necessarily those of the bank of england or the monetary policy committee\",\n",
        "        \"the views are not necessarily those of the bank of england or the financial policy committee\",\n",
        "        \"the views expressed within are not necessarily those of the bank of england or the monetary policy committee\",\n",
        "        \"the views expressed within are not necessarily those of the bank of england or the financial policy committee\",\n",
        "        \"i would like to thank\",\n",
        "        \"and the staff of the bank’s archives\",\n",
        "        \"for comments and contributions\",\n",
        "        \"for their comments and contributions\",\n",
        "        \"et al\"\n",
        "    ]\n",
        "\n",
        "for i in range(0, len(speech)):\n",
        "    for j in range(0, len(del_strings)):\n",
        "        # speech_1[speech[i]] = speech_1[speech[i]].replace(del_strings[j], \"\")\n",
        "        speech_1[speech[i]] = re.sub(del_strings[j], \" \", speech_1[speech[i]])\n",
        "        # remove excess whitespaces\n",
        "        speech_1[speech[i]] = re.sub(\" +\", \" \", speech_1[speech[i]])\n",
        "\n",
        "\n",
        "# Remove refences section\n",
        "for i in range(0, len(speech)):\n",
        "    if re.search(\"references\", speech_1[speech[i]]):\n",
        "        # use greedy regex to remove all strings after the last \"references\"\n",
        "        speech_1[speech[i]] = re.findall(\".*references\", speech_1[speech[i]])\n",
        "        speech_1[speech[i]] = speech_1[speech[i]][0]\n",
        "    else:\n",
        "        pass\n",
        "\n"
      ],
      "metadata": {
        "id": "dzMcR8F9Ydcv"
      },
      "execution_count": null,
      "outputs": []
    },
    {
      "cell_type": "code",
      "source": [
        "nltk.download(\"punkt\")\n",
        "nltk.download(\"stopwords\")\n",
        "\n",
        "# Tokenise speech words\n",
        "speech_2 = {}\n",
        "for i in range(0, len(speech)):\n",
        "    speech_2[speech[i]] = word_tokenize(speech_1[speech[i]])\n",
        "\n",
        "\n",
        "# Remove stop words\n",
        "stopwords = nltk.corpus.stopwords.words(\"english\")\n",
        "\n",
        "for i in range(0, len(speech)):\n",
        "    speech_2[speech[i]] = [word for word in speech_2[speech[i]] if word not in stopwords]\n",
        "    speech_2[speech[i]] = \" \".join(speech_2[speech[i]])"
      ],
      "metadata": {
        "colab": {
          "base_uri": "https://localhost:8080/"
        },
        "id": "gL48aeBzZ5_8",
        "outputId": "7b7475f3-24da-4087-c181-e6c6c14f76e8"
      },
      "execution_count": 22,
      "outputs": [
        {
          "output_type": "stream",
          "name": "stderr",
          "text": [
            "[nltk_data] Downloading package punkt to /root/nltk_data...\n",
            "[nltk_data]   Package punkt is already up-to-date!\n",
            "[nltk_data] Downloading package stopwords to /root/nltk_data...\n",
            "[nltk_data]   Package stopwords is already up-to-date!\n"
          ]
        }
      ]
    },
    {
      "cell_type": "code",
      "source": [
        "# Combine into DataFrames\n",
        "speeches = pd.DataFrame({\"speech\": speech, \"text\": list(speech_1.values()), \"token\": list(speech_2.values())})\n",
        "temp = pd.DataFrame({\"speech\": speech_html, \"text\": list(speech_3.values()), \"token\": list(speech_3.values())})\n",
        "\n",
        "# Concatenate both dataframes\n",
        "speeches = pd.concat([speeches, temp], ignore_index=True)\n",
        "speeches"
      ],
      "metadata": {
        "colab": {
          "base_uri": "https://localhost:8080/",
          "height": 89
        },
        "id": "Kig6hdO-gQAn",
        "outputId": "34a4595b-981f-4905-8aba-3d7c39f4cfad"
      },
      "execution_count": 30,
      "outputs": [
        {
          "output_type": "execute_result",
          "data": {
            "text/plain": [
              "  speech                                               text  \\\n",
              "0         inclusive capitalism conference conversation g...   \n",
              "\n",
              "                                               token  \n",
              "0  inclusive capitalism conference conversation g...  "
            ],
            "text/html": [
              "\n",
              "  <div id=\"df-5b670a6e-e3f6-47ab-b70e-7a3c85814d9c\" class=\"colab-df-container\">\n",
              "    <div>\n",
              "<style scoped>\n",
              "    .dataframe tbody tr th:only-of-type {\n",
              "        vertical-align: middle;\n",
              "    }\n",
              "\n",
              "    .dataframe tbody tr th {\n",
              "        vertical-align: top;\n",
              "    }\n",
              "\n",
              "    .dataframe thead th {\n",
              "        text-align: right;\n",
              "    }\n",
              "</style>\n",
              "<table border=\"1\" class=\"dataframe\">\n",
              "  <thead>\n",
              "    <tr style=\"text-align: right;\">\n",
              "      <th></th>\n",
              "      <th>speech</th>\n",
              "      <th>text</th>\n",
              "      <th>token</th>\n",
              "    </tr>\n",
              "  </thead>\n",
              "  <tbody>\n",
              "    <tr>\n",
              "      <th>0</th>\n",
              "      <td></td>\n",
              "      <td>inclusive capitalism conference conversation g...</td>\n",
              "      <td>inclusive capitalism conference conversation g...</td>\n",
              "    </tr>\n",
              "  </tbody>\n",
              "</table>\n",
              "</div>\n",
              "    <div class=\"colab-df-buttons\">\n",
              "\n",
              "  <div class=\"colab-df-container\">\n",
              "    <button class=\"colab-df-convert\" onclick=\"convertToInteractive('df-5b670a6e-e3f6-47ab-b70e-7a3c85814d9c')\"\n",
              "            title=\"Convert this dataframe to an interactive table.\"\n",
              "            style=\"display:none;\">\n",
              "\n",
              "  <svg xmlns=\"http://www.w3.org/2000/svg\" height=\"24px\" viewBox=\"0 -960 960 960\">\n",
              "    <path d=\"M120-120v-720h720v720H120Zm60-500h600v-160H180v160Zm220 220h160v-160H400v160Zm0 220h160v-160H400v160ZM180-400h160v-160H180v160Zm440 0h160v-160H620v160ZM180-180h160v-160H180v160Zm440 0h160v-160H620v160Z\"/>\n",
              "  </svg>\n",
              "    </button>\n",
              "\n",
              "  <style>\n",
              "    .colab-df-container {\n",
              "      display:flex;\n",
              "      gap: 12px;\n",
              "    }\n",
              "\n",
              "    .colab-df-convert {\n",
              "      background-color: #E8F0FE;\n",
              "      border: none;\n",
              "      border-radius: 50%;\n",
              "      cursor: pointer;\n",
              "      display: none;\n",
              "      fill: #1967D2;\n",
              "      height: 32px;\n",
              "      padding: 0 0 0 0;\n",
              "      width: 32px;\n",
              "    }\n",
              "\n",
              "    .colab-df-convert:hover {\n",
              "      background-color: #E2EBFA;\n",
              "      box-shadow: 0px 1px 2px rgba(60, 64, 67, 0.3), 0px 1px 3px 1px rgba(60, 64, 67, 0.15);\n",
              "      fill: #174EA6;\n",
              "    }\n",
              "\n",
              "    .colab-df-buttons div {\n",
              "      margin-bottom: 4px;\n",
              "    }\n",
              "\n",
              "    [theme=dark] .colab-df-convert {\n",
              "      background-color: #3B4455;\n",
              "      fill: #D2E3FC;\n",
              "    }\n",
              "\n",
              "    [theme=dark] .colab-df-convert:hover {\n",
              "      background-color: #434B5C;\n",
              "      box-shadow: 0px 1px 3px 1px rgba(0, 0, 0, 0.15);\n",
              "      filter: drop-shadow(0px 1px 2px rgba(0, 0, 0, 0.3));\n",
              "      fill: #FFFFFF;\n",
              "    }\n",
              "  </style>\n",
              "\n",
              "    <script>\n",
              "      const buttonEl =\n",
              "        document.querySelector('#df-5b670a6e-e3f6-47ab-b70e-7a3c85814d9c button.colab-df-convert');\n",
              "      buttonEl.style.display =\n",
              "        google.colab.kernel.accessAllowed ? 'block' : 'none';\n",
              "\n",
              "      async function convertToInteractive(key) {\n",
              "        const element = document.querySelector('#df-5b670a6e-e3f6-47ab-b70e-7a3c85814d9c');\n",
              "        const dataTable =\n",
              "          await google.colab.kernel.invokeFunction('convertToInteractive',\n",
              "                                                    [key], {});\n",
              "        if (!dataTable) return;\n",
              "\n",
              "        const docLinkHtml = 'Like what you see? Visit the ' +\n",
              "          '<a target=\"_blank\" href=https://colab.research.google.com/notebooks/data_table.ipynb>data table notebook</a>'\n",
              "          + ' to learn more about interactive tables.';\n",
              "        element.innerHTML = '';\n",
              "        dataTable['output_type'] = 'display_data';\n",
              "        await google.colab.output.renderOutput(dataTable, element);\n",
              "        const docLink = document.createElement('div');\n",
              "        docLink.innerHTML = docLinkHtml;\n",
              "        element.appendChild(docLink);\n",
              "      }\n",
              "    </script>\n",
              "  </div>\n",
              "\n",
              "\n",
              "  <div id=\"id_1e81162e-3793-4920-990c-dcae791b218a\">\n",
              "    <style>\n",
              "      .colab-df-generate {\n",
              "        background-color: #E8F0FE;\n",
              "        border: none;\n",
              "        border-radius: 50%;\n",
              "        cursor: pointer;\n",
              "        display: none;\n",
              "        fill: #1967D2;\n",
              "        height: 32px;\n",
              "        padding: 0 0 0 0;\n",
              "        width: 32px;\n",
              "      }\n",
              "\n",
              "      .colab-df-generate:hover {\n",
              "        background-color: #E2EBFA;\n",
              "        box-shadow: 0px 1px 2px rgba(60, 64, 67, 0.3), 0px 1px 3px 1px rgba(60, 64, 67, 0.15);\n",
              "        fill: #174EA6;\n",
              "      }\n",
              "\n",
              "      [theme=dark] .colab-df-generate {\n",
              "        background-color: #3B4455;\n",
              "        fill: #D2E3FC;\n",
              "      }\n",
              "\n",
              "      [theme=dark] .colab-df-generate:hover {\n",
              "        background-color: #434B5C;\n",
              "        box-shadow: 0px 1px 3px 1px rgba(0, 0, 0, 0.15);\n",
              "        filter: drop-shadow(0px 1px 2px rgba(0, 0, 0, 0.3));\n",
              "        fill: #FFFFFF;\n",
              "      }\n",
              "    </style>\n",
              "    <button class=\"colab-df-generate\" onclick=\"generateWithVariable('speeches')\"\n",
              "            title=\"Generate code using this dataframe.\"\n",
              "            style=\"display:none;\">\n",
              "\n",
              "  <svg xmlns=\"http://www.w3.org/2000/svg\" height=\"24px\"viewBox=\"0 0 24 24\"\n",
              "       width=\"24px\">\n",
              "    <path d=\"M7,19H8.4L18.45,9,17,7.55,7,17.6ZM5,21V16.75L18.45,3.32a2,2,0,0,1,2.83,0l1.4,1.43a1.91,1.91,0,0,1,.58,1.4,1.91,1.91,0,0,1-.58,1.4L9.25,21ZM18.45,9,17,7.55Zm-12,3A5.31,5.31,0,0,0,4.9,8.1,5.31,5.31,0,0,0,1,6.5,5.31,5.31,0,0,0,4.9,4.9,5.31,5.31,0,0,0,6.5,1,5.31,5.31,0,0,0,8.1,4.9,5.31,5.31,0,0,0,12,6.5,5.46,5.46,0,0,0,6.5,12Z\"/>\n",
              "  </svg>\n",
              "    </button>\n",
              "    <script>\n",
              "      (() => {\n",
              "      const buttonEl =\n",
              "        document.querySelector('#id_1e81162e-3793-4920-990c-dcae791b218a button.colab-df-generate');\n",
              "      buttonEl.style.display =\n",
              "        google.colab.kernel.accessAllowed ? 'block' : 'none';\n",
              "\n",
              "      buttonEl.onclick = () => {\n",
              "        google.colab.notebook.generateWithVariable('speeches');\n",
              "      }\n",
              "      })();\n",
              "    </script>\n",
              "  </div>\n",
              "\n",
              "    </div>\n",
              "  </div>\n"
            ],
            "application/vnd.google.colaboratory.intrinsic+json": {
              "type": "dataframe",
              "variable_name": "speeches",
              "summary": "{\n  \"name\": \"speeches\",\n  \"rows\": 1,\n  \"fields\": [\n    {\n      \"column\": \"speech\",\n      \"properties\": {\n        \"dtype\": \"object\",\n        \"num_unique_values\": 1,\n        \"samples\": [\n          \"\"\n        ],\n        \"semantic_type\": \"\",\n        \"description\": \"\"\n      }\n    },\n    {\n      \"column\": \"text\",\n      \"properties\": {\n        \"dtype\": \"string\",\n        \"num_unique_values\": 1,\n        \"samples\": [\n          \"inclusive capitalism conference conversation governor mark carney bank england use cookies use necessary cookies make site work example manage session \\u2019 also like use nonessential cookies including thirdparty cookies help us improve site clicking \\u2018 accept recommended settings \\u2019 banner accept use optional cookies necessary cookies analytics cookies yes yes accept recommended cookies yes proceed necessary cookies necessary cookies necessary cookies enable core functionality website security network management accessibility may disable changing browser settings may affect website functions analytics cookies use analytics cookies keep track number visitors various parts site understand website used information cookies work please see cookie policy skip main content main menu close main menu topics open topics sub menu back main menu banknotes open banknotes sub menu back main menu choosing banknote characters counterfeit banknotes current banknotes damaged contaminated banknotes exchanging old banknotes note circulation scheme advice retailers businesses scottish northern ireland banknotes using images banknotes wholesale cash distribution future withdrawn banknotes careers open careers sub menu back main menu application tips career returner programme 2025 future talent locations research careers value diversity inclusion offer join us climate change digital pound education open education sub menu back main menu competitions education resources research support programme request speaker school financial stability open financial stability sub menu back main menu digital securities sandbox dss financial market infrastructure supervision operational resilience financial sector resolution trade repository tr data collections gold markets open markets sub menu back main menu bank england market operations guide eligible collateral fair effective markets foreign currency reserves greening corporate bond purchase scheme cbps market intelligence money markets committee uk money markets code settlement collateral management sonia interest rate benchmark sterling bond portfolio transition libor riskfree rates monetary policy open monetary policy sub menu back main menu inflation 2 target quantitative easing interest rates bank rate payment settlement open payment settlement sub menu back main menu banking services chaps crossborder payments payment settlement statistics rtgs renewal programme prudential regulation open prudential regulation sub menu back main menu authorisations new bank startup unit new insurer startup unit policy prudential resolution policy index regulatory reporting secondary objectives supervision bank england \\u2019 approach enforcement research open research sub menu back main menu bank england agenda research fintech future finance response research visitor programme research funding fellowships researchers statistics open statistics sub menu back main menu banknote statistics bankstats tables data collection exchange rates gold statistics gross domestic product realtime database optionimplied probability density functions research datasets statistics requested users yield curves open sub menu back main menu get involved open get involved sub menu back main menu citizens \\u2019 forum community forums partners insights forum youth voice governance funding open governance funding sub menu back main menu staff codes policies history people open people sub menu back main menu agents chief cashiers court directors executive directors financial policy committee financial market infrastructure committee governors monetary policy committee prudential regulation committee news publications open news publications sub menu back main menu events news minutes prudential regulation publications publications speeches statistical releases upcoming museum contact search nothing searched please enter search term home inclusive capitalism conference conversation governor mark carney inclusive capitalism conference conversation governor mark carney given mansion house london published 26 june 2015 governor mark carney participates onstage conversation economist \\u2019 editorinchief zanny mintonbeddoes conference inclusive capitalism pathway action governor discusses create core financial markets work fairly effectively deliver strong sustainable balanced growth play creating fair effective markets video mark carney former governor bank england 2013 2020 convert page pdf speeches speech andrew bailey 26 october 2024 future money payments speech future money payments speech andrew bailey speech andrew bailey 24 october 2024 michael gill memorial society lecture michael gill memorial society lecture \\u2212 andrew bailey speech andrew bailey 22 october 2024 today \\u2019 challenges financial stability today \\u2019 challenges financial stability new new speech andrew bailey speech sam woods 17 october 2024 competing growth \\u2212 speech sam woods competing growth \\u2212 speech sam woods view speeches back top follow us follow us follow us twitter connect us linkedin add us facebook follow us instagram watch us youtube find us flickr museum like bank england museum facebook follow bank england museum twitter follow bank england museum instagram browse topics browse topics banknotes careers digital pound education financial stability gold markets monetary policy payment settlement prudential regulation research statistics useful links useful links us archive contact us explainers faqs freedom information glossary museum subscribe emails bank england threadneedle street london ec2r 8ah switchboard 44020 3461 4444 enquiries 44020 3461 4878 bank england museum bartholomew lane london ec2r 8ah accessibility statement cookies cymraeg legal privacy sitemap \\u00a92024 bank england\"\n        ],\n        \"semantic_type\": \"\",\n        \"description\": \"\"\n      }\n    },\n    {\n      \"column\": \"token\",\n      \"properties\": {\n        \"dtype\": \"string\",\n        \"num_unique_values\": 1,\n        \"samples\": [\n          \"inclusive capitalism conference conversation governor mark carney bank england use cookies use necessary cookies make site work example manage session \\u2019 also like use nonessential cookies including thirdparty cookies help us improve site clicking \\u2018 accept recommended settings \\u2019 banner accept use optional cookies necessary cookies analytics cookies yes yes accept recommended cookies yes proceed necessary cookies necessary cookies necessary cookies enable core functionality website security network management accessibility may disable changing browser settings may affect website functions analytics cookies use analytics cookies keep track number visitors various parts site understand website used information cookies work please see cookie policy skip main content main menu close main menu topics open topics sub menu back main menu banknotes open banknotes sub menu back main menu choosing banknote characters counterfeit banknotes current banknotes damaged contaminated banknotes exchanging old banknotes note circulation scheme advice retailers businesses scottish northern ireland banknotes using images banknotes wholesale cash distribution future withdrawn banknotes careers open careers sub menu back main menu application tips career returner programme 2025 future talent locations research careers value diversity inclusion offer join us climate change digital pound education open education sub menu back main menu competitions education resources research support programme request speaker school financial stability open financial stability sub menu back main menu digital securities sandbox dss financial market infrastructure supervision operational resilience financial sector resolution trade repository tr data collections gold markets open markets sub menu back main menu bank england market operations guide eligible collateral fair effective markets foreign currency reserves greening corporate bond purchase scheme cbps market intelligence money markets committee uk money markets code settlement collateral management sonia interest rate benchmark sterling bond portfolio transition libor riskfree rates monetary policy open monetary policy sub menu back main menu inflation 2 target quantitative easing interest rates bank rate payment settlement open payment settlement sub menu back main menu banking services chaps crossborder payments payment settlement statistics rtgs renewal programme prudential regulation open prudential regulation sub menu back main menu authorisations new bank startup unit new insurer startup unit policy prudential resolution policy index regulatory reporting secondary objectives supervision bank england \\u2019 approach enforcement research open research sub menu back main menu bank england agenda research fintech future finance response research visitor programme research funding fellowships researchers statistics open statistics sub menu back main menu banknote statistics bankstats tables data collection exchange rates gold statistics gross domestic product realtime database optionimplied probability density functions research datasets statistics requested users yield curves open sub menu back main menu get involved open get involved sub menu back main menu citizens \\u2019 forum community forums partners insights forum youth voice governance funding open governance funding sub menu back main menu staff codes policies history people open people sub menu back main menu agents chief cashiers court directors executive directors financial policy committee financial market infrastructure committee governors monetary policy committee prudential regulation committee news publications open news publications sub menu back main menu events news minutes prudential regulation publications publications speeches statistical releases upcoming museum contact search nothing searched please enter search term home inclusive capitalism conference conversation governor mark carney inclusive capitalism conference conversation governor mark carney given mansion house london published 26 june 2015 governor mark carney participates onstage conversation economist \\u2019 editorinchief zanny mintonbeddoes conference inclusive capitalism pathway action governor discusses create core financial markets work fairly effectively deliver strong sustainable balanced growth play creating fair effective markets video mark carney former governor bank england 2013 2020 convert page pdf speeches speech andrew bailey 26 october 2024 future money payments speech future money payments speech andrew bailey speech andrew bailey 24 october 2024 michael gill memorial society lecture michael gill memorial society lecture \\u2212 andrew bailey speech andrew bailey 22 october 2024 today \\u2019 challenges financial stability today \\u2019 challenges financial stability new new speech andrew bailey speech sam woods 17 october 2024 competing growth \\u2212 speech sam woods competing growth \\u2212 speech sam woods view speeches back top follow us follow us follow us twitter connect us linkedin add us facebook follow us instagram watch us youtube find us flickr museum like bank england museum facebook follow bank england museum twitter follow bank england museum instagram browse topics browse topics banknotes careers digital pound education financial stability gold markets monetary policy payment settlement prudential regulation research statistics useful links useful links us archive contact us explainers faqs freedom information glossary museum subscribe emails bank england threadneedle street london ec2r 8ah switchboard 44020 3461 4444 enquiries 44020 3461 4878 bank england museum bartholomew lane london ec2r 8ah accessibility statement cookies cymraeg legal privacy sitemap \\u00a92024 bank england\"\n        ],\n        \"semantic_type\": \"\",\n        \"description\": \"\"\n      }\n    }\n  ]\n}"
            }
          },
          "metadata": {},
          "execution_count": 30
        }
      ]
    },
    {
      "cell_type": "code",
      "source": [],
      "metadata": {
        "id": "CwefUBVwflAv"
      },
      "execution_count": null,
      "outputs": []
    }
  ]
}